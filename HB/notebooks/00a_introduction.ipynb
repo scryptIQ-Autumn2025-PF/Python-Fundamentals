{
  "cells": [
    {
      "cell_type": "markdown",
      "metadata": {},
      "source": [
        "# Student Handbook"
      ]
    },
    {
      "cell_type": "markdown",
      "metadata": {},
      "source": [
        "## Introduction"
      ]
    },
    {
      "cell_type": "markdown",
      "metadata": {},
      "source": [
        "We would firstly like to extend our warmest welcome to you, and thank you for choosing the **Learn To Discover** (L2D) course to empower you with valuable skills in Python programming, data science and machine learning: **developed by life scientists, for life scientists.**"
      ]
    },
    {
      "cell_type": "markdown",
      "metadata": {},
      "source": [
        "To help you complete the course we have provided information that will walk you through setting up and registering with us, what lesson releases will be like, the teaching given, and how to submit your assignments, as well as some other useful information."
      ]
    }
  ],
  "metadata": {
    "kernelspec": {
      "display_name": "pf0-induction",
      "language": "python",
      "name": "python3"
    },
    "language_info": {
      "codemirror_mode": {
        "name": "ipython",
        "version": 3
      },
      "file_extension": ".py",
      "mimetype": "text/x-python",
      "name": "python",
      "nbconvert_exporter": "python",
      "pygments_lexer": "ipython3",
      "version": "3.13.2"
    }
  },
  "nbformat": 4,
  "nbformat_minor": 2
}