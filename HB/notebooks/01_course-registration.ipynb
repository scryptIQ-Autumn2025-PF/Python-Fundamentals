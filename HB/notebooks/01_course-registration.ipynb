{
  "cells": [
    {
      "cell_type": "markdown",
      "metadata": {},
      "source": [
        "# Course Registration & Lesson Releases"
      ]
    },
    {
      "cell_type": "markdown",
      "metadata": {},
      "source": [
        "## Introduction"
      ]
    },
    {
      "cell_type": "markdown",
      "metadata": {},
      "source": [
        "In order to get started we need a few necessary steps:\n",
        "1. Register yourself for a GitHub account.\n",
        "2. Enter your details (including the GitHub account) into our Registration Form.\n",
        "3. Once you have done this, we will send you an invitation to join a GitHub Organisation. Please accept this.\n",
        "4. Keep note of you GitHub login details, as these will be used throughout the course to access the materials."
      ]
    },
    {
      "cell_type": "markdown",
      "metadata": {},
      "source": [
        "## About GitHub"
      ]
    },
    {
      "cell_type": "markdown",
      "metadata": {},
      "source": [
        "Owned by Microsoft, GitHub is an international community-based organisation that provides a suite of facilities to create, edit, share and publish code. At L2D, we have made a conscious decision to employ GitHub’s infrastructure within our course, in order to initiate new users into its ecosystem so that – should you continue to explore coding further after the course – you will already be familiar with one of the leading, internationally-recognised platforms and standards for programmers and coders.\n",
        "\n",
        "This also facilitates joining in our community of L2D learners and tutors via GitHub Discussions: a forum for posting questions, sharing ideas and new findings. We also make use of GitHub Classroom: an arm of GitHub Education that allows us to manage your learning journey on L2D."
      ]
    },
    {
      "cell_type": "markdown",
      "metadata": {},
      "source": [
        "## Lesson Release"
      ]
    },
    {
      "cell_type": "markdown",
      "metadata": {},
      "source": [
        "The L2D course is run on a largely fortnightly schedule, with new lesson topics being made available to you on Mondays, excluding public holidays and closure periods. The dates of these lesson releases are provided in the L2D Calendar and it is recommended that you transfer important dates into your own personal calendar, so that you don’t miss lectures, drop-in sessions and other important components of the course."
      ]
    },
    {
      "cell_type": "markdown",
      "metadata": {},
      "source": [
        "Each lesson release is marked by the receipt of a lesson release email (routinely issued on Mondays) that will contain all information required to access L2D materials and available resources. Please keep an eye open for these from *admin@learntodiscover.ai*, and check that they do not get caught in your junk mail. If you have any issues, please email the aforementioned address."
      ]
    }
  ],
  "metadata": {
    "language_info": {
      "name": "python"
    }
  },
  "nbformat": 4,
  "nbformat_minor": 2
}