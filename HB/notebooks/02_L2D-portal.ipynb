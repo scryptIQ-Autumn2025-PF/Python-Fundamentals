{
  "cells": [
    {
      "cell_type": "markdown",
      "metadata": {},
      "source": [
        "# L2D Portal & Github"
      ]
    },
    {
      "cell_type": "markdown",
      "metadata": {},
      "source": [
        "## Introduction"
      ]
    },
    {
      "cell_type": "markdown",
      "metadata": {},
      "source": [
        "The L2D course centres around two key resources:\n",
        "- Lesson Portal: Contains the hierarchical menu of all lesson topics\n",
        "- GitHub Repository: Contains lesson-wise files and assignments"
      ]
    },
    {
      "cell_type": "markdown",
      "metadata": {},
      "source": [
        "## Accessing Lesson Materials"
      ]
    },
    {
      "cell_type": "markdown",
      "metadata": {},
      "source": [
        "1. Find the link to the [L2D Lesson Portal](https://learntodiscover.ai/) in your lesson release email.\n",
        "2. Navigate the menu to find your current lesson topics. Each fortnightly lesson release will appear here."
      ]
    },
    {
      "cell_type": "markdown",
      "metadata": {},
      "source": [
        "![L2D Portal](./images/l2d-portal.png)"
      ]
    },
    {
      "cell_type": "markdown",
      "metadata": {},
      "source": [
        "## Creating your GitHub Lesson Repository"
      ]
    },
    {
      "cell_type": "markdown",
      "metadata": {},
      "source": [
        "### 1. Accept the assignment"
      ]
    },
    {
      "cell_type": "markdown",
      "metadata": {},
      "source": [
        "- Click on the lesson you wish to access, from the menu on your Lesson Portal page.\n",
        "- When GitHub Classroom appears, either find and click your name in the list, or click on the blue **\"Skip to the next step\"** button."
      ]
    },
    {
      "cell_type": "markdown",
      "metadata": {},
      "source": [
        "![Github Classroom](./images/github-classroom.png)"
      ]
    },
    {
      "cell_type": "markdown",
      "metadata": {},
      "source": [
        "- Click the blue hyperlink containing your unique repository URL that contains all the lessons resources, assignments, and links."
      ]
    },
    {
      "cell_type": "markdown",
      "metadata": {},
      "source": [
        "![Github Classroom Accepted](./images/github-classroom-ready.png)"
      ]
    },
    {
      "cell_type": "markdown",
      "metadata": {},
      "source": [
        "### 2. Navigating your repository"
      ]
    },
    {
      "cell_type": "markdown",
      "metadata": {},
      "source": [
        "Below is a screenshot of a typical lesson resources repository. A GitHub repository (or \"repo\") is your personal digital workspace that stores all files, folders, and version history for a specific lesson. Think of it as a dedicated project folder in the cloud that tracks changes, enables collaboration, and provides access to all course materials."
      ]
    },
    {
      "cell_type": "markdown",
      "metadata": {},
      "source": [
        "Here are some key points to remember when navigating through your lesson repository:\n",
        "- Your repository homepage displays the contents hierarchy in the centre\n",
        "- Each item shows the most recent commit message and date\n",
        "- A commit is a logged change made to a file or folder"
      ]
    },
    {
      "cell_type": "markdown",
      "metadata": {},
      "source": [
        "![L2D GitHub Repository](./images/l2d-repo.png)"
      ]
    },
    {
      "cell_type": "markdown",
      "metadata": {},
      "source": [
        "### 3. Repository resources"
      ]
    },
    {
      "cell_type": "markdown",
      "metadata": {},
      "source": [
        "Each lesson repository will always contain:\n",
        "- **Assignments**: This folder contains blank assignment templates for you to fill out and submit before your submission deadline. Assignments are typically graded within 14 days of timely submission.\n",
        "- **Data**: This folder contains data needed for working alongside online resources, the assignment, and additional materials.\n",
        "- **Lecture_Resources** This folder contains data or Jupyter Notebooks demonstrated during, or supplemental to, live lectures. These can be useful if you wish to code in tandem with your L2D Instructor during a lecture, or if you wish to re-visit the lecture at a later date.\n",
        "- **ReadMe**: This is the document displayed on the home page of your GitHub repository, beneath the repository contents. It contains all the useful links and information relating to the selected lesson, including links to written materials, times and links to live lectures and drop-in sessions; as well as contact details for reaching the L2D team."
      ]
    },
    {
      "cell_type": "markdown",
      "metadata": {},
      "source": [
        "Each lesson may also contain:\n",
        "- Additional Resources: This folder contains supplementary learning materials added throughout the course. While these resources enhance your understanding, they aren't included in assessments."
      ]
    },
    {
      "cell_type": "markdown",
      "metadata": {},
      "source": [
        "NOTE BOX\n",
        "\n",
        "Folders with names beginning with a period (`.`) are developer folders. Please do not modify or concern yourself with these."
      ]
    }
  ],
  "metadata": {
    "language_info": {
      "name": "python"
    }
  },
  "nbformat": 4,
  "nbformat_minor": 2
}