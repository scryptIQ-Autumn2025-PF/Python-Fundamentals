{
  "cells": [
    {
      "cell_type": "markdown",
      "metadata": {},
      "source": [
        "# Online Materials"
      ]
    },
    {
      "cell_type": "markdown",
      "metadata": {},
      "source": [
        "## Introduction"
      ]
    },
    {
      "cell_type": "markdown",
      "metadata": {},
      "source": [
        "For our modules created by scryptIQ we have created brand new online materials and content to help deliver our **Python Fundamentals**, **Networks**, and **Artificial Intelligence** modules. This means they will have quite a different look to **Data Handling** and **Machine Learning**, although all we retain the high quality we strive for."
      ]
    },
    {
      "cell_type": "markdown",
      "metadata": {},
      "source": [
        "## Pyodide"
      ]
    },
    {
      "cell_type": "markdown",
      "metadata": {},
      "source": [
        "Our new materials have an ingenious software called Pyodide running in the background. Pyodide has Python run inside the browser itself, so the code you see inside the materials has actually run live. This allows us to generate editable code cells, in which you can immediately test out what you've learned."
      ]
    },
    {
      "cell_type": "markdown",
      "metadata": {},
      "source": [
        "### Navigating the webpages"
      ]
    },
    {
      "cell_type": "markdown",
      "metadata": {},
      "source": [
        "Within every lesson release repository there will a link to the introduction page for this lessons learning materials. Clicking **homepage** or the **scryptIQ logo** in the top left will take you to the homepage, this will contain the links to the student handbook and all released lessons. As new lessons are released, they will appear in the homepage. Use this page to navigate all materials and information available to you."
      ]
    },
    {
      "cell_type": "markdown",
      "metadata": {},
      "source": [
        "### Types of Cells"
      ]
    },
    {
      "cell_type": "markdown",
      "metadata": {},
      "source": [
        "Code cells that have a green output box below are fixed and can not be edited by you."
      ]
    },
    {
      "cell_type": "markdown",
      "metadata": {},
      "source": [
        "![Fixed Output](./images/pyodide-fixed.png)"
      ]
    },
    {
      "cell_type": "markdown",
      "metadata": {},
      "source": [
        "However, those with a pink output box below and a pink **Edit** button, can have their code altered by the user and can be run independently each time. Variables from previously run cells, both fixed and editable, should be present in subsequent editable cells. However, refreshing the page will restart and refresh any previous actions."
      ]
    },
    {
      "cell_type": "markdown",
      "metadata": {},
      "source": [
        "![Editable Output](./images/pyodide-content.png)"
      ]
    },
    {
      "cell_type": "markdown",
      "metadata": {},
      "source": [
        "There will also be **Practice Exercises** scattered throughout the materials. These questions should be quick problems to solve, focussing on the material you just read. Answering these earnestly should help progress your understanding much more quickly."
      ]
    },
    {
      "cell_type": "markdown",
      "metadata": {},
      "source": [
        "![Practice Exercise](./images/pyodide-practice.png)"
      ]
    },
    {
      "cell_type": "markdown",
      "metadata": {},
      "source": [
        "## Pyodide Issues"
      ]
    },
    {
      "cell_type": "markdown",
      "metadata": {},
      "source": [
        "Sometimes, but not often, a code cell will not render with Pyodide. To rectify this, just refresh the page. If this or any other issue occurs, please email us at *admin@learntodiscover.ai* or report it through our form (see [**Course Feedback**](./course-feedback.html))."
      ]
    }
  ],
  "metadata": {
    "language_info": {
      "name": "python"
    }
  },
  "nbformat": 4,
  "nbformat_minor": 2
}