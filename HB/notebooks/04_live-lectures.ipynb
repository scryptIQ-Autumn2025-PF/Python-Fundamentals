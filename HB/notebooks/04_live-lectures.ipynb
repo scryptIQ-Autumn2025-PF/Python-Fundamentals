{
  "cells": [
    {
      "cell_type": "markdown",
      "metadata": {},
      "source": [
        "# Live Lectures & Drop-in Sessions"
      ]
    },
    {
      "cell_type": "markdown",
      "metadata": {},
      "source": [
        "## Introduction"
      ]
    },
    {
      "cell_type": "markdown",
      "metadata": {},
      "source": [
        "Each Thursday on the week of a lesson release, we hold a live lecture for the L2D course. This runs on Zoom at 14:00 GMT/BST. The link to this can be found linked in the ReadMe of the lesson release or here: [Live Lecture Zoom Link](https://ucl.zoom.us/s/93522532680#success)."
      ]
    },
    {
      "cell_type": "markdown",
      "metadata": {},
      "source": [
        "These lectures are recorded, edited and uploaded to YouTube playlists typically within a few days after they have streamed. You'll find links to these playlists in your lesson release email and in the ReadMe files of each GitHub repository. We also announce newly published lecture videos on the GitHub Discussions forum. All lecture recordings remain permanently available to you throughout and after the course."
      ]
    },
    {
      "cell_type": "markdown",
      "metadata": {},
      "source": [
        "## Drop-in Sessions"
      ]
    },
    {
      "cell_type": "markdown",
      "metadata": {},
      "source": [
        "Directly following on from the live lecture, we host a second live stream on the same day at **15:00 GMT/BST** for one hour. The link to this is the same as the live lecture.\n",
        "\n",
        "During drop-in sessions, you're encouraged to bring forward any specific questions, share your screen, and receive real-time debugging and coding assistance. This interactive format provides an excellent opportunity to clarify concepts and deepen your understanding of the material. Unlike lectures, these sessions are not recorded and are only available to those who attend at the scheduled time.\n",
        "\n",
        "**Note:** The drop-in sessions will only stay open for as long as there are students in the call, so they may finish earlier than an hour. If you plan on only coming to the drop-in later, then please notify us in advance."
      ]
    },
    {
      "cell_type": "markdown",
      "metadata": {},
      "source": [
        "NOTE BOX\n",
        "\n",
        "These sessions focus exclusively on the fortnightly lesson topic; for questions on other topics, please book a tutor support session as described in [**Tutor-Support**](./tutor-support.html) of this handbook."
      ]
    }
  ],
  "metadata": {
    "language_info": {
      "name": "python"
    }
  },
  "nbformat": 4,
  "nbformat_minor": 2
}