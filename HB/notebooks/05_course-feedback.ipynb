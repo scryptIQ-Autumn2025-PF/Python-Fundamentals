{
  "cells": [
    {
      "cell_type": "markdown",
      "metadata": {},
      "source": [
        "# Submitting Course Feedback"
      ]
    },
    {
      "cell_type": "markdown",
      "metadata": {},
      "source": [
        "## Introduction"
      ]
    },
    {
      "cell_type": "markdown",
      "metadata": {},
      "source": [
        "We are always trying to improve our course , continually updating it for each new cohort. We ask that students complete a feedback form for each lesson which helps us gauge your level of satisfaction with each fortnight of learning. You can find the form in the as the last page on each [online materials](./feedback.html) or [here](https://docs.google.com/forms/d/e/1FAIpQLSfL7mV7m3I7dGivx1IJyl0H6hsKQSr4QKWpCW7GDdAepbEjyg/viewform?usp=dialog) The form takes just a few minutes to complete and provides valuable insight into what you enjoy about the course and any suggestions for improvements."
      ]
    },
    {
      "cell_type": "markdown",
      "metadata": {},
      "source": [
        "We pride ourselves on our agility to act on your suggestions promptly here at L2D, and highly value the relationships we develop with our students."
      ]
    },
    {
      "cell_type": "markdown",
      "metadata": {},
      "source": [
        "## Reporting an Issue"
      ]
    },
    {
      "cell_type": "markdown",
      "metadata": {},
      "source": [
        "Due to our constant updates, sometimes an error will make its way through. If you notice an issue you can report it through the [**Report An Issue**](./report-issue.html) page. This will automatically inform us, with hopefully a quick fix coming through."
      ]
    }
  ],
  "metadata": {
    "language_info": {
      "name": "python"
    }
  },
  "nbformat": 4,
  "nbformat_minor": 2
}