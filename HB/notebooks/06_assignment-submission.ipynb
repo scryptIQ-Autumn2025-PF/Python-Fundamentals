{
  "cells": [
    {
      "cell_type": "markdown",
      "metadata": {},
      "source": [
        "# Assignment Submission"
      ]
    },
    {
      "cell_type": "markdown",
      "metadata": {},
      "source": [
        "## Introduction"
      ]
    },
    {
      "cell_type": "markdown",
      "metadata": {},
      "source": [
        "As you progress through L2D, you'll complete one assignment per fortnightly lesson. Assignments are Jupyter Notebook templates in your Assignments folder and must be submitted before the next lesson release (typically before 00:00, 14 days after release). Timely submissions are graded within 14 days; late submissions may delay feedback and certificates. For extensions due to extenuating circumstances, please contact *admin@learntodiscover.ai*."
      ]
    },
    {
      "cell_type": "markdown",
      "metadata": {},
      "source": [
        "Below is a step-by-step instruction on how to submit an assignment through GitHub Codespaces. Codespaces allow you to create a remote, online instance of Microsoft Visual Studio Code. This means that any issues with hardware, software, package dependencies should be taken care of."
      ]
    },
    {
      "cell_type": "markdown",
      "metadata": {},
      "source": [
        "While they are mostly great, some students do sometimes run into issues with Codespaces, when submitting assignments. If you are having any difficulties, please contact us at *admin@learntodiscover.ai*."
      ]
    },
    {
      "cell_type": "markdown",
      "metadata": {},
      "source": [
        "TIP BOX\n",
        "\n",
        "We recommend Google Chrome as the best browser for stability and ease, however it should work with the other mainstream browsers."
      ]
    },
    {
      "cell_type": "markdown",
      "metadata": {},
      "source": [
        "## Assignment Workflow"
      ]
    },
    {
      "cell_type": "markdown",
      "metadata": {},
      "source": [
        "### 1. Understanding your assignment folder:"
      ]
    },
    {
      "cell_type": "markdown",
      "metadata": {},
      "source": [
        "- Navigate to your lesson repository and open the Assignments folder\n",
        "- Items within: **‘XX_Assignment.ipynb’** - a Jupyter notebook containing the assignment questions and spaces to answer them. Please fill in this file.\n",
        "- Feedback folder - where your feedback will be uploaded within 14 days\n",
        "- More information on feedback is provided within this folder\n",
        "- Any data needed for assignment will be in the Data folder located in the\n",
        "home page/directory"
      ]
    },
    {
      "cell_type": "markdown",
      "metadata": {},
      "source": [
        "### 2. Creating a Codespace:"
      ]
    },
    {
      "cell_type": "markdown",
      "metadata": {},
      "source": [
        "1. Click the green Code button and select the Codespaces tab from your home screen.\n",
        "2. Click the ‘Create codespace on main’ button.\n",
        "3. add new information."
      ]
    },
    {
      "cell_type": "markdown",
      "metadata": {},
      "source": [
        "NOTE BOX\n",
        "\n",
        "Codespace setup may take several minutes and can be affected\n",
        "by your internet connection. Click Building codespace in the bottom\n",
        "right to see the your progress. It will indicate, in this log, when the\n",
        "Codespace creation is complete."
      ]
    },
    {
      "cell_type": "markdown",
      "metadata": {},
      "source": [
        "### 3. Open & set up your assignment:"
      ]
    },
    {
      "cell_type": "markdown",
      "metadata": {},
      "source": [
        "1. Find your assignment notebook using the file Explorer tab (on the left - an icon of two overlaid pages).\n",
        "2. In the top right, if you don’t already see L2D_VE displayed, please click Select Kernel (top right) → Select Python Environments.\n",
        "3. Choose L2D_VE (our pre-configured environment)"
      ]
    },
    {
      "cell_type": "markdown",
      "metadata": {},
      "source": [
        "NOTE BOX\n",
        "\n",
        "If properly selected, the name L2D_VE will be displayed in the top right where you selected the kernel originally alongside the Python version. Your Notebooks will then run code, as expected."
      ]
    },
    {
      "cell_type": "markdown",
      "metadata": {},
      "source": [
        "### 4. Complete your assignment:"
      ]
    },
    {
      "cell_type": "markdown",
      "metadata": {},
      "source": [
        "- Cells are the basis of Jupyter notebooks, in brief they are a distinct container\n",
        "in a Jupyter Notebook where you write and execute individual pieces of\n",
        "Python code.\n",
        "- Cells allow you to break your work into logical segments that can be run\n",
        "independently.\n",
        "- Add code cells using the + Code button\n",
        "- Run cells with the **play button** (a little triangle) or **Ctrl + Enter**"
      ]
    },
    {
      "cell_type": "markdown",
      "metadata": {},
      "source": [
        "NOTE BOX\n",
        "\n",
        "Your work autosaves while your internet connection remains active. But we do recommend that, before closing a Codespace tab or window, you save your work manually (in the ‘File’ menu) - just in case."
      ]
    },
    {
      "cell_type": "markdown",
      "metadata": {},
      "source": [
        "## Submission Workflow"
      ]
    },
    {
      "cell_type": "markdown",
      "metadata": {},
      "source": [
        "### 1. Submit your completed assignment:"
      ]
    },
    {
      "cell_type": "markdown",
      "metadata": {},
      "source": [
        "Only complete these next steps when you are ready to submit your assignment. If you are pausing your work simply exit the browser as normal and begin again with step 2 where under the **Codespaces tab** there will be your old workspace. Your work should be saved within."
      ]
    },
    {
      "cell_type": "markdown",
      "metadata": {},
      "source": [
        "1. Click the Source Control tab (fork symbol) on the far left. This opens a VSCode interface for Git control\n",
        "2. Click the + symbol next to your file to stage changes\n",
        "3. Enter a commit message (e.g., \"Assignment completed”)\n",
        "4. Click the green Commit button, then press the Sync Changes button."
      ]
    },
    {
      "cell_type": "markdown",
      "metadata": {},
      "source": [
        "NOTE BOX\n",
        "\n",
        "This is the typical workflow of git: Save changes → Stage changes → Commit (with message) → Sync (push) to the main repo (typically in the cloud)."
      ]
    },
    {
      "cell_type": "markdown",
      "metadata": {},
      "source": [
        "### 2. Delete your Codespace after use (mandatory):"
      ]
    },
    {
      "cell_type": "markdown",
      "metadata": {},
      "source": [
        "After submitting your assignment, you **must delete your codespace**. This step is essential, as active codespaces consume computational resources on GitHub's servers. Leaving too many codespaces running may result in GitHub restricting your access to this feature. Each codespace operates as a dedicated virtual computer instance that requires resources to maintain."
      ]
    },
    {
      "cell_type": "markdown",
      "metadata": {},
      "source": [
        "1. Return to your repository, click **Code → Codespaces** tab\n",
        "2. Find your Codespace\n",
        "3. Click the three dots (...) beside it\n",
        "4. Select Delete from the dropdown menu"
      ]
    },
    {
      "cell_type": "markdown",
      "metadata": {},
      "source": [
        "While this workflow might initially seem complex, it familiarises you with GitHub's infrastructure, and enables you to easily share and collaborate on code, should you continue coding in the future.\n",
        "\n",
        "To help illustrate the workflow, watch the video below:"
      ]
    },
    {
      "cell_type": "markdown",
      "metadata": {},
      "source": [
        "VIDEO"
      ]
    },
    {
      "cell_type": "markdown",
      "metadata": {},
      "source": [
        "## Local Assignment Submission"
      ]
    },
    {
      "cell_type": "markdown",
      "metadata": {},
      "source": [
        "For those who prefer to work offline or bypass the Codespace method, you can complete assignments on your local machine using Microsoft Visual Studio Code (VS Code). This approach allows you to work without an active internet connection and submit your work when you reconnect by cloning the repository on GitHub to your local repository. From which any changes can be pushed back to main."
      ]
    },
    {
      "cell_type": "markdown",
      "metadata": {},
      "source": [
        "### Setup requirements"
      ]
    },
    {
      "cell_type": "markdown",
      "metadata": {},
      "source": [
        "To install all the necessary tools needed to work locally and push back, see our **Python Fundamentals: Induction** that contains the necessary information to install and setup Python, VS Code, and Git."
      ]
    }
  ],
  "metadata": {
    "language_info": {
      "name": "python"
    }
  },
  "nbformat": 4,
  "nbformat_minor": 2
}