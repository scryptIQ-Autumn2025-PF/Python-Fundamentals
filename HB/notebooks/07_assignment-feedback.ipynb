{
  "cells": [
    {
      "cell_type": "markdown",
      "metadata": {},
      "source": [
        "# Assignment Feedback"
      ]
    },
    {
      "cell_type": "markdown",
      "metadata": {},
      "source": [
        "## Introduction"
      ]
    },
    {
      "cell_type": "markdown",
      "metadata": {},
      "source": [
        "Your marked assignments will be returned to your repository within 14 days of timely submission. The graded file will appear in your Feedback folder with **\"_MARKED\"** appended to its filename. Your tutor will include in-line comments (initialed, e.g., #AL:) throughout your work."
      ]
    },
    {
      "cell_type": "markdown",
      "metadata": {},
      "source": [
        "## Grading System"
      ]
    },
    {
      "cell_type": "markdown",
      "metadata": {},
      "source": [
        "The Feedback folder contains a ReadMe explaining our three-tier grading system:\n",
        "- Distinction: Exceptional understanding and application\n",
        "- Pass: Satisfactory understanding and application\n",
        "- Revise: Needs improvement before passing"
      ]
    },
    {
      "cell_type": "markdown",
      "metadata": {},
      "source": [
        "## Receiving Feedback"
      ]
    },
    {
      "cell_type": "markdown",
      "metadata": {},
      "source": [
        "Your tutor will submit feedback as a GitHub Pull Request:\n",
        "- You'll receive a notification in your GitHub inbox and via email\n",
        "- The feedback includes a summary comment and your grade\n",
        "- For Distinction/Pass grades, you'll also receive a model solutions document to compare to your own answers.\n",
        "- For Revise grades, you'll need to make corrections and resubmit."
      ]
    },
    {
      "cell_type": "markdown",
      "metadata": {},
      "source": [
        "## Revising Assignments"
      ]
    },
    {
      "cell_type": "markdown",
      "metadata": {},
      "source": [
        "If your work requires revision:\n",
        "1. Open your marked assignment in your Codespace\n",
        "2. Create a copy: right-click → Copy → right-click → Paste\n",
        "3. Rename the copy: replace **\"_MARKED\"** with **\"_REVISED\"**\n",
        "4. Make the necessary corrections based on tutor feedback\n",
        "5. Submit using the same process: stage → commit → push\n",
        "6. Important: Reply to your tutor's Pull Request comment stating you've submitted your revision.\n",
        "\n",
        "**See the video below**"
      ]
    },
    {
      "cell_type": "markdown",
      "metadata": {},
      "source": [
        "WARNING BOX\n",
        "\n",
        "Without the above the tutor won’t be notified and will not know to re-\n",
        "mark."
      ]
    },
    {
      "cell_type": "markdown",
      "metadata": {},
      "source": [
        "**NOTE:** Please submit revisions within 14 days of receiving feedback. Delayed submissions may not be prioritised by tutors and could affect certificate issuance."
      ]
    },
    {
      "cell_type": "markdown",
      "metadata": {},
      "source": [
        "VIDEO"
      ]
    }
  ],
  "metadata": {
    "language_info": {
      "name": "python"
    }
  },
  "nbformat": 4,
  "nbformat_minor": 2
}