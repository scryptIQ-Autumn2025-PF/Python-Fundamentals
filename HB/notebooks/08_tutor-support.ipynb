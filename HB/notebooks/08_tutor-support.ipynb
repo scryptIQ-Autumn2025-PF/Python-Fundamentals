{
  "cells": [
    {
      "cell_type": "markdown",
      "metadata": {},
      "source": [
        "# Tutor Support Sessions"
      ]
    },
    {
      "cell_type": "markdown",
      "metadata": {},
      "source": [
        "## Introduction"
      ]
    },
    {
      "cell_type": "markdown",
      "metadata": {},
      "source": [
        "L2D now offers the chance to book a 30-minute, 1-to-1 discussion between students and tutors. This is aimed at allowing students with particular queries to have these answered and walked-through with an L2D tutor.\n",
        "\n",
        "As an example, these queries can either be about a subject area, assignment question, or final project."
      ]
    },
    {
      "cell_type": "markdown",
      "metadata": {},
      "source": [
        "## Booking a Session"
      ]
    },
    {
      "cell_type": "markdown",
      "metadata": {},
      "source": [
        "1. Visit our [Tutor Sessions booking](https://linktr.ee/L2DTutorSessions) page\n",
        "2. Select a tutor from the list. If one tutor's availability doesn't suit your schedule, check the others for more options.\n",
        "3. Each booking consists of a 30-minute slot. Select a slot that is convenient for you. Typically, we make slots available one week at a time.\n",
        "4. Complete the booking form with:\n",
        "    - Your name\n",
        "    - Email address\n",
        "    - Brief description of your query (1-2 sentences)"
      ]
    },
    {
      "cell_type": "markdown",
      "metadata": {},
      "source": [
        "**See the video below**"
      ]
    },
    {
      "cell_type": "markdown",
      "metadata": {},
      "source": [
        "VIDEO"
      ]
    },
    {
      "cell_type": "markdown",
      "metadata": {},
      "source": [
        "## Attending Your Session"
      ]
    },
    {
      "cell_type": "markdown",
      "metadata": {},
      "source": [
        "After booking, you'll receive an automatic calendar invitation with a Google Meet link. At the scheduled time, simply click this link to join the video meeting directly from  your web browser—no additional software or sign-ups required. For any questions about your support session, email us at *admin@learntodiscover.ai*."
      ]
    }
  ],
  "metadata": {
    "language_info": {
      "name": "python"
    }
  },
  "nbformat": 4,
  "nbformat_minor": 2
}