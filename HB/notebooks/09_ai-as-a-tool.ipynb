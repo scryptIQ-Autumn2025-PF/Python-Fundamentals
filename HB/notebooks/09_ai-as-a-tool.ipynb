{
  "cells": [
    {
      "cell_type": "markdown",
      "metadata": {},
      "source": [
        "# AI as a Tool"
      ]
    },
    {
      "cell_type": "markdown",
      "metadata": {},
      "source": [
        "## Introduction"
      ]
    },
    {
      "cell_type": "markdown",
      "metadata": {},
      "source": [
        "L2D encourages the integration of AI tools in your learning journey. As AI and GenAI assistants become increasingly powerful, they present both opportunities and challenges for education."
      ]
    },
    {
      "cell_type": "markdown",
      "metadata": {},
      "source": [
        "## Appropriate Use of AI"
      ]
    },
    {
      "cell_type": "markdown",
      "metadata": {},
      "source": [
        "We support the use of AI to:\n",
        "- Clarify complex programming or mathematical concepts\n",
        "- Debug code when you're truly stuck (after making your own attempts)\n",
        "- Generate learning resources such as explanations or analogies\n",
        "- Explore alternative approaches to problems you've already solved"
      ]
    },
    {
      "cell_type": "markdown",
      "metadata": {},
      "source": [
        "Given the foundational nature of the questions and work in this course you can easily use AI tools to answer the questions in the assignments without engaging with the topics. However, in doing so you will have missed the point of taking this course; the development of your problem-solving abilities, computational and algorithmic thinking and coding skills."
      ]
    },
    {
      "cell_type": "markdown",
      "metadata": {},
      "source": [
        "## Priming your AI for learning"
      ]
    },
    {
      "cell_type": "markdown",
      "metadata": {},
      "source": [
        "Here at L2D we have been experimenting with getting the most out of AI to help you learn. An easy way to prime a GenAI is to give it a stringent prompt that will guide how it responds to any questions."
      ]
    },
    {
      "cell_type": "markdown",
      "metadata": {},
      "source": [
        "**Ask for guidance rather than answers**\n",
        "- \"Can you help me understand how list comprehensions work?”"
      ]
    },
    {
      "cell_type": "markdown",
      "metadata": {},
      "source": [
        "**Request Socratic-style teaching**\n",
        "- \"Please guide me through this problem by asking me questions rather than telling me the answer.”"
      ]
    },
    {
      "cell_type": "markdown",
      "metadata": {},
      "source": [
        "**Enter into a dialogue**\n",
        "- If the AI assistant asks a question, answer it earnestly, to your best ability. It will provide more context for it to see where you are going wrong and explain accordingly."
      ]
    },
    {
      "cell_type": "markdown",
      "metadata": {},
      "source": [
        "**Be specific about your current understanding**\n",
        "- \"I understand that pandas DataFrames store tabular data, but I'm confused about how to filter rows”"
      ]
    },
    {
      "cell_type": "markdown",
      "metadata": {},
      "source": [
        "**Ask for conceptual explanations, step-by-step**\n",
        "- \"Can you explain the concept behind regularisation in machine learning?"
      ]
    },
    {
      "cell_type": "markdown",
      "metadata": {},
      "source": [
        "**Share your code attempts**\n",
        "- \"Here's my current code. I'm getting this error and I've tried X and Y to fix it”"
      ]
    },
    {
      "cell_type": "markdown",
      "metadata": {},
      "source": [
        "**Ask for conceptual explanations, step-by-step**\n",
        "- \"Can you explain the concept behind regularisation in machine learning? Give me the explanation in steps with questions to probe my understanding.”"
      ]
    },
    {
      "cell_type": "markdown",
      "metadata": {},
      "source": [
        "**Ask for analogies or visual explanations**\n",
        "- \"Can you explain neural networks using a non-technical analogy?”"
      ]
    },
    {
      "cell_type": "markdown",
      "metadata": {},
      "source": [
        "**Request verification of your understanding**\n",
        "- \"Here's my understanding of how unsupervised clustering works… Am I on the right track?\""
      ]
    },
    {
      "cell_type": "markdown",
      "metadata": {},
      "source": [
        "Remember that the goal is to enhance your learning, not to bypass it. The most valuable learning comes from working through challenges with guidance rather than being given solutions."
      ]
    }
  ],
  "metadata": {
    "language_info": {
      "name": "python"
    }
  },
  "nbformat": 4,
  "nbformat_minor": 2
}