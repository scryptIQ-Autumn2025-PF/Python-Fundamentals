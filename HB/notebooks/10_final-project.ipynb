{
  "cells": [
    {
      "cell_type": "markdown",
      "metadata": {},
      "source": [
        "#  Final Project"
      ]
    },
    {
      "cell_type": "markdown",
      "metadata": {},
      "source": [
        "## Introduction"
      ]
    },
    {
      "cell_type": "markdown",
      "metadata": {},
      "source": [
        "For learners who have completed all L2D modules (Basic Python, Data Handling, Networks, Machine Learning, and AI), you'll have approximately four weeks to complete and submit a Final Project. The submission deadline is listed in both the L2D Course Calendar and your final Machine Learning lesson release email."
      ]
    },
    {
      "cell_type": "markdown",
      "metadata": {},
      "source": [
        "## Using Your Own Data"
      ]
    },
    {
      "cell_type": "markdown",
      "metadata": {},
      "source": [
        "We strongly encourage using your own dataset for your Final Project. This approach\n",
        "offers several benefits:\n",
        "- Applying learned techniques to your specific research questions\n",
        "- Gaining experience with real-world data challenges\n",
        "- Guidance from the L2D tutors as you work"
      ]
    },
    {
      "cell_type": "markdown",
      "metadata": {},
      "source": [
        "While we do provide sample datasets as a fallback option, we've found that students who work with their own data typically gain significantly more from the course and produce more meaningful projects."
      ]
    },
    {
      "cell_type": "markdown",
      "metadata": {},
      "source": [
        "## Project Requirements "
      ]
    },
    {
      "cell_type": "markdown",
      "metadata": {},
      "source": [
        "Your project should:\n",
        "- Apply techniques from across the entire L2D curriculum\n",
        "- Analyse your chosen dataset comprehensively\n",
        "- Document your process in a complete Jupyter Notebook with notes\n",
        "explaining your decision making"
      ]
    },
    {
      "cell_type": "markdown",
      "metadata": {},
      "source": [
        "Successful completion of your Final Project results in a Certificate of Completion for the L2D course."
      ]
    },
    {
      "cell_type": "markdown",
      "metadata": {},
      "source": [
        "## Certificates"
      ]
    },
    {
      "cell_type": "markdown",
      "metadata": {},
      "source": [
        "Upon completing the L2D course, you'll receive certificates based on your\n",
        "assignment submissions. To qualify:\n",
        "- Basic Python: Submit at least 3 out of 4 assignments\n",
        "- Data Handling: Submit at least 3 out of 4 assignments\n",
        "- Machine Learning: Submit at least 4 out of 5 assignments\n",
        "- Complete Course: Submit all required component assignments plus the final project"
      ]
    },
    {
      "cell_type": "markdown",
      "metadata": {},
      "source": [
        "You'll receive individual certificates for each completed component, plus an overall course completion certificate if you've completed the entire program."
      ]
    },
    {
      "cell_type": "markdown",
      "metadata": {},
      "source": [
        "Timely submission of assignments and the final project ensures prompt certificate issuance. Late submissions may delay this process."
      ]
    }
  ],
  "metadata": {
    "language_info": {
      "name": "python"
    }
  },
  "nbformat": 4,
  "nbformat_minor": 2
}