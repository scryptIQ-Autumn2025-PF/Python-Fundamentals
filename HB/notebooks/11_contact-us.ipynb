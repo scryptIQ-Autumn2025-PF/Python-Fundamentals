{
  "cells": [
    {
      "cell_type": "markdown",
      "metadata": {},
      "source": [
        "# Contact us"
      ]
    },
    {
      "cell_type": "markdown",
      "metadata": {},
      "source": [
        "## Introduction"
      ]
    },
    {
      "cell_type": "markdown",
      "metadata": {},
      "source": [
        "We offer multiple channels to reach L2D staff, as well as an open discussion forum on GitHub for you and the other students to ask questions."
      ]
    },
    {
      "cell_type": "markdown",
      "metadata": {},
      "source": [
        "## Options"
      ]
    },
    {
      "cell_type": "markdown",
      "metadata": {},
      "source": [
        "**Academic queries**\n",
        "- Post on the GitHub Discussions forum with detailed information\n",
        "- While posting publicly about problems may seem intimidating, remember that other students often face similar challenges and will benefit from the shared discussion and solutions"
      ]
    },
    {
      "cell_type": "markdown",
      "metadata": {},
      "source": [
        "**One-to-one support**\n",
        "- Book a tutor support session as outlined in section 9\n",
        "    - Use this for help on specific challenges"
      ]
    },
    {
      "cell_type": "markdown",
      "metadata": {},
      "source": [
        "**Assignment feedback**\n",
        "- Respond directly to your tutor's comments under the Pull Requests menu\n",
        "    - Use this for questions about marked assignments"
      ]
    },
    {
      "cell_type": "markdown",
      "metadata": {},
      "source": [
        "**General course inquiries**\n",
        "- Email *admin@learntodiscover.ai*\n",
        "    - For administrative questions, access issues, or other concerns"
      ]
    }
  ],
  "metadata": {
    "language_info": {
      "name": "python"
    }
  },
  "nbformat": 4,
  "nbformat_minor": 2
}