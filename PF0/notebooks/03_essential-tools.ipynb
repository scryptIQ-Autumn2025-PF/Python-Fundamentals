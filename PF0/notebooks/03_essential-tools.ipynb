{
  "cells": [
    {
      "cell_type": "markdown",
      "metadata": {},
      "source": [
        "# Essential Tools"
      ]
    },
    {
      "cell_type": "markdown",
      "metadata": {},
      "source": [
        "## Introduction"
      ]
    },
    {
      "cell_type": "markdown",
      "metadata": {},
      "source": [
        "**Learning Objectives**\n",
        "- Using the terminal\n",
        "- What is an IDE?\n",
        "- Using Jupyter notebooks for Python\n",
        "- Understand packages and environments"
      ]
    },
    {
      "cell_type": "markdown",
      "metadata": {},
      "source": [
        "Often one of the most frustrating parts of learning to code is understanding and properly utilising the tools that are used to execute and edit the code, which can sadly lack the cohesive logic found in the language itself.\n",
        "\n",
        "We'll run through a few basics that will help you get started, starting from using the terminal (Mac & Linux) or command line (Windows), to what common code editors are available, and the basics of Jupyter Notebooks: an interactive coding environment we will use heavily in this course."
      ]
    },
    {
      "cell_type": "markdown",
      "metadata": {},
      "source": [
        "## Using Python in the Terminal"
      ]
    },
    {
      "cell_type": "markdown",
      "metadata": {},
      "source": [
        "### What is the Terminal?"
      ]
    },
    {
      "cell_type": "markdown",
      "metadata": {},
      "source": [
        "The terminal (also called command line interface or CLI) is a text-based interface that allows you to interact directly with your computer's operating system through typed commands. Originally, this was the primary way people interacted with computers before **graphical user interfaces** (GUIs) became widespread in the 1980s.\n",
        "\n",
        "While it might seem outdated compared to clicking buttons and dragging files, the terminal remains an incredibly powerful tool for developers. It provides direct access to system functions, allows for automation through scripts, and often offers more control and flexibility than graphical alternatives. Additionally, you may find yourself having to use a headless (no graphical interface) setup, such as an institutes computing cluster or remote hardware.\n",
        "\n",
        "For Python specifically, the terminal allows you to run scripts, install packages, manage virtual environments, and access the **interactive Python interpreter** (REPL) quickly and efficiently."
      ]
    },
    {
      "cell_type": "markdown",
      "metadata": {},
      "source": [
        "## Terminal OS Differences"
      ]
    },
    {
      "cell_type": "markdown",
      "metadata": {},
      "source": [
        "Different operating systems provide various applications to access the terminal:\n",
        "\n",
        "- **Windows**: Command Prompt (cmd), PowerShell, Windows Terminal (recommended for Windows 10/11)\n",
        "- **Mac**: Terminal (built-in)\n",
        "- **Linux**: Varies by distribution—GNOME Terminal, Konsole, xterm, among others"
      ]
    },
    {
      "cell_type": "markdown",
      "metadata": {},
      "source": [
        "### Command Differences"
      ]
    },
    {
      "cell_type": "markdown",
      "metadata": {},
      "source": [
        "One key difference you'll encounter is how Python is invoked:\n",
        "\n",
        "- **Windows**: Both `python` and `py` commands are available, with `py` being the Python launcher that's often more reliable\n",
        "- **Mac/Linux**: Typically use `python` or `python3`, depending on your installation"
      ]
    },
    {
      "cell_type": "markdown",
      "metadata": {},
      "source": [
        "### File Paths"
      ]
    },
    {
      "cell_type": "markdown",
      "metadata": {},
      "source": [
        "File paths are represented differently across operating systems:\n",
        "\n",
        "- **Windows**: Uses backslashes (`C:\\Users\\YourName\\Documents\\script.py`)\n",
        "- **Mac/Linux**: Uses forward slashes (`/Users/YourName/Documents/script.py`)"
      ]
    },
    {
      "cell_type": "markdown",
      "metadata": {},
      "source": [
        "NOTE BOX\n",
        "\n",
        "In Python a backslash (`\\`) is a character that denotes the start of an escape sequence (which allows normally disallowed characters to be inputted). As Windows paths include backslashes, this will cause an error. To get around this you need to place an `r` before your path like so: `r\"C:\\Users\\YourName\\Documents\\myData.csv\"`, or use double backslashes: `\"C:\\\\Users\\\\YourName\\\\Documents\\\\myData.csv\"`, or there are built-in functions that automatically handle all path types. This will be made clearer in the lessons."
      ]
    },
    {
      "cell_type": "markdown",
      "metadata": {},
      "source": [
        "### Case Sensitivity"
      ]
    },
    {
      "cell_type": "markdown",
      "metadata": {},
      "source": [
        "File and directory (folder) names are treated differently:\n",
        "\n",
        "- **Mac/Linux**: Case-sensitive (`MyFile.py` and `myfile.py` are different files)\n",
        "- **Windows**: Case-insensitive (`MyFile.py` and `myfile.py` refer to the same file)"
      ]
    },
    {
      "cell_type": "markdown",
      "metadata": {},
      "source": [
        "## Terminal Basics for Python"
      ]
    },
    {
      "cell_type": "markdown",
      "metadata": {},
      "source": [
        "### Opening the Terminal"
      ]
    },
    {
      "cell_type": "markdown",
      "metadata": {},
      "source": [
        "- **Windows**: Press `Win+R`, type `cmd` or `powershell`, and press Enter. Alternatively, search for \"Command Prompt\" or \"PowerShell\" in the Start menu\n",
        "- **Mac**: Press `Cmd+Space`, type \"Terminal\", and press Enter. Or navigate to Applications > Utilities > Terminal\n",
        "- **Linux**: Typically `Ctrl+Alt+T`, or look for Terminal in your applications menu"
      ]
    },
    {
      "cell_type": "markdown",
      "metadata": {},
      "source": [
        "### Navigation Commands"
      ]
    },
    {
      "cell_type": "markdown",
      "metadata": {},
      "source": [
        "Essential commands for moving around your file system:"
      ]
    },
    {
      "cell_type": "markdown",
      "metadata": {},
      "source": [
        "### Changing directory"
      ]
    },
    {
      "cell_type": "markdown",
      "metadata": {},
      "source": [
        "Navigating the terminal is one of the most common commands, use `cd` to find the right folder to modify and execute your files.\n",
        "\n",
        "- `cd Documents` : move to Documents folder\n",
        "- `cd ..` : move back one directory level\n",
        "- `cd ~` : move to home directory (Mac/Linux)\n",
        "- `cd /` : move to root directory (Mac/Linux)"
      ]
    },
    {
      "cell_type": "markdown",
      "metadata": {},
      "source": [
        "### Showing files in a folder"
      ]
    },
    {
      "cell_type": "markdown",
      "metadata": {},
      "source": [
        "Without the help of a file finder graphical interface you often won't remember the full file name. To remind us can use `ls` or `dir` to list files and folders in the current directory:\n",
        "\n",
        "- ls (Mac/Linux)\n",
        "- dir (Windows)"
      ]
    },
    {
      "cell_type": "markdown",
      "metadata": {},
      "source": [
        "### Showing files in a folder"
      ]
    },
    {
      "cell_type": "markdown",
      "metadata": {},
      "source": [
        "The current directory path is used in a lot of downstream terminal tasks, so you will often need to print it to screen to copy. Use `pwd` or `cd` alone to show the current directory path in the terminal.\n",
        "\n",
        "- pwd (Mac/Linux)\n",
        "- cd (Windows without anything after)"
      ]
    },
    {
      "cell_type": "markdown",
      "metadata": {},
      "source": [
        "### Python REPL"
      ]
    },
    {
      "cell_type": "markdown",
      "metadata": {},
      "source": [
        "The Python REPL (Read-Eval-Print Loop) is an interactive Python shell where you can type Python commands and see immediate results. To start it, simply type `python` (or `py` on Windows) in the terminal. You'll see something like:\n",
        "\n",
        "```\n",
        "Python 3.13.2 (main, Feb 12 2025, 14:59:08) [Clang 19.1.6 ] on darwin\n",
        "Type \"help\", \"copyright\", \"credits\" or \"license\" for more information.\n",
        ">>>\n",
        "```\n",
        "\n",
        "The `>>>` prompt indicates you're now in Python mode. You can type any Python code and press Enter to execute it immediately. To exit the REPL, type `exit()` or use `Ctrl+D` (Mac/Linux) or `Ctrl+Z` then Enter (Windows)."
      ]
    },
    {
      "cell_type": "markdown",
      "metadata": {},
      "source": [
        "## Python Files"
      ]
    },
    {
      "cell_type": "markdown",
      "metadata": {},
      "source": [
        "Python files have a `.py` extension and contain your Python code. You can create these files using text editors such as Notepad (Windows) or TextEdit (Mac), although this is not recommended. Instead, most users utilise more sophisticated editors called integrated development environments, which we'll cover in the next section."
      ]
    },
    {
      "cell_type": "markdown",
      "metadata": {},
      "source": [
        "### Running a Python file"
      ]
    },
    {
      "cell_type": "markdown",
      "metadata": {},
      "source": [
        "To run a Python file from the terminal, navigate to the directory containing your file and use:\n",
        "\n",
        "```\n",
        "python filename.py\n",
        "```\n",
        "\n",
        "For example, if you have a file called `hello_world.py`, you would run:\n",
        "\n",
        "```\n",
        "python hello_world.py\n",
        "```\n",
        "\n",
        "Running `python` not within an environment (see the later section) will call the main Python installation and packages. Later lessons will talk about setting up environments in more detail."
      ]
    },
    {
      "cell_type": "markdown",
      "metadata": {},
      "source": [
        "## Integrated Development Environments"
      ]
    },
    {
      "cell_type": "markdown",
      "metadata": {},
      "source": [
        "### What is an IDE?"
      ]
    },
    {
      "cell_type": "markdown",
      "metadata": {},
      "source": [
        "An Integrated Development Environment (IDE) is a software application that combines a text editor with additional tools specifically designed for software development.\n",
        "\n",
        "Unlike basic text editors, IDEs provide additional tools to improve your coding experience:\n",
        "\n",
        "- **Syntax highlighting**: Code is coloured to make it easier to read and spot errors\n",
        "- **Error detection**: Many mistakes are highlighted before you even run your code\n",
        "- **Integrated terminal**: Run files without having to open a new terminal\n",
        "- **Debugging tools**: Step through your code line by line to find and fix problems (more for developers)\n",
        "- **Code completion**: Suggestions and auto-completion as you type\n",
        "- **Project management**: Organise multiple files and folders efficiently"
      ]
    },
    {
      "cell_type": "markdown",
      "metadata": {},
      "source": [
        "KEY TERMS BOX\n",
        "\n",
        "**What is syntax?** Programming syntax refers the set of rules that dictate the structure and format of a programming language, without the set structure the code would not be read correctly by the interpreter."
      ]
    },
    {
      "cell_type": "markdown",
      "metadata": {},
      "source": [
        "### L2D Recommendation: Visual Studio Code"
      ]
    },
    {
      "cell_type": "markdown",
      "metadata": {},
      "source": [
        "Visual Studio Code (VSCode) is our recommended IDE for this course. It's a free, open-source code editor developed by Microsoft that has become incredibly popular among developers due to its flexibility and performance. It will be the IDE used by your demonstrators in this course, as well as the one used with GitHub CodeSpaces (covered in [Course setup](./course-setup.html)).\n",
        "\n",
        "VSCode can be a bit overwhelming at first as it has a wealth of options. Many of the tools come in the form of extensions, which can be added to invoke things such as syntax colouring.\n",
        "\n",
        "To install, visit the [VSCode website](https://code.visualstudio.com/) and follow the instructions for your OS.\n",
        "\n",
        "After installation, open VSCode and install the Python extension:\n",
        "\n",
        "1. Click on the Extensions icon in the left sidebar (or press `Ctrl+Shift+X`)\n",
        "2. Search for \"Python\" and install the official Microsoft Python extension\n",
        "3. This extension provides syntax highlighting, debugging, code completion, and more"
      ]
    },
    {
      "cell_type": "markdown",
      "metadata": {},
      "source": [
        "## Other Notable IDEs"
      ]
    },
    {
      "cell_type": "markdown",
      "metadata": {},
      "source": [
        "### Spyder"
      ]
    },
    {
      "cell_type": "markdown",
      "metadata": {},
      "source": [
        "[Spyder](https://www.spyder-ide.org/) (Scientific Python Development Environment) is an IDE specifically designed for scientific computing and data analysis. It comes with Anaconda by default and provides a MATLAB-like interface that many researchers find familiar. Spyder includes variable explorers, integrated plotting, and debugging tools tailored for data science workflows."
      ]
    },
    {
      "cell_type": "markdown",
      "metadata": {},
      "source": [
        "### PyCharm"
      ]
    },
    {
      "cell_type": "markdown",
      "metadata": {},
      "source": [
        "Developed by JetBrains, [PyCharm](https://www.jetbrains.com/pycharm/) is a professional IDE with powerful features for Python development. It comes in both free (Community) and paid (Professional) versions. PyCharm excels in code analysis, refactoring tools, and advanced debugging capabilities. The Professional version includes additional features for web development and scientific tools."
      ]
    },
    {
      "cell_type": "markdown",
      "metadata": {},
      "source": [
        "### Cursor"
      ]
    },
    {
      "cell_type": "markdown",
      "metadata": {},
      "source": [
        "[Cursor](https://cursor.com) is a newer IDE that integrates AI assistance directly into the coding experience. Built on VSCode's foundation, it provides AI-powered code completion, explanation, and generation features. While still evolving, it represents an interesting direction for AI-assisted development. AI usage in Curson is limited without a subscription or a link to a paid GenAI account."
      ]
    },
    {
      "cell_type": "markdown",
      "metadata": {},
      "source": [
        "## Jupyter Notebooks"
      ]
    },
    {
      "cell_type": "markdown",
      "metadata": {},
      "source": [
        "### What is a Notebook?"
      ]
    },
    {
      "cell_type": "markdown",
      "metadata": {},
      "source": [
        "Jupyter Notebooks are interactive documents that combine code, text, and visualisations in a single file. Unlike traditional Python scripts that contain only code, notebooks allow you to intersperse your code with explanatory text, mathematical equations, and rich media outputs like graphs and images. \n",
        "\n",
        "They all allow you to run small snippets of code (**cells**) one at a time, viewing their output instantly, rather than waiting for the whole script to run. This format makes it perfect for exploratory science, as you can pay about with your data on, making changes on the fly and observing its effects with visualisations. Once settled, you can enrich the outputs with your thoughts and context to make it a true digital lab notebook."
      ]
    },
    {
      "cell_type": "markdown",
      "metadata": {},
      "source": [
        "### Cell-based Structure"
      ]
    },
    {
      "cell_type": "markdown",
      "metadata": {},
      "source": [
        "Notebooks are organised into cells, which are individual blocks that can contain either code or text, see below:"
      ]
    },
    {
      "cell_type": "markdown",
      "metadata": {},
      "source": [
        "![Notebook cells](./images/jupyter-notebook.png)"
      ]
    },
    {
      "cell_type": "markdown",
      "metadata": {},
      "source": [
        "As can be seen above, notebooks contain two main types of cells:\n",
        "\n",
        "- **Code cells**: Enter Python code into these so that they can be executed.\n",
        "- **Markdown cells**: Enter text formatted text, mathematical equations, and documentation into these cells."
      ]
    },
    {
      "cell_type": "markdown",
      "metadata": {},
      "source": [
        "You can change cell types using the dropdown menu in the toolbar or keyboard shortcuts (typically 'M' for Markdown, 'Y' for code when in command mode)."
      ]
    },
    {
      "cell_type": "markdown",
      "metadata": {},
      "source": [
        "This structure allows you to:\n",
        "- Run small sections of code independently\n",
        "- See immediate results after each cell execution\n",
        "- Modify and re-run specific parts without restarting the entire program\n",
        "- Build your analysis step-by-step with explanations between each step"
      ]
    },
    {
      "cell_type": "markdown",
      "metadata": {},
      "source": [
        "### Basics of Using Jupyter Notebooks"
      ]
    },
    {
      "cell_type": "markdown",
      "metadata": {},
      "source": [
        "To use Jupyter Notebooks, you'll first need to install the necessary packages. If you installed Python through Anaconda, Jupyter is included. Otherwise, install it using:\n",
        "\n",
        "```\n",
        "python -m pip install jupyter\n",
        "```"
      ]
    },
    {
      "cell_type": "markdown",
      "metadata": {},
      "source": [
        "NOTE BOX \n",
        "\n",
        "We will explain in more detail how to install packages for Python in **PF3**, so don't worry too much about this for now. All of these parts will be set up for you in the Codespace we create for you through Github, see [Course setup](./course-setup.html)."
      ]
    },
    {
      "cell_type": "markdown",
      "metadata": {},
      "source": [
        "### In VScode"
      ]
    },
    {
      "cell_type": "markdown",
      "metadata": {},
      "source": [
        "To work with a Jupyter notebook in VScode you must also install the *Jupyter* extension from the extension marketplace. \n",
        "\n",
        "After installing the Jupyter extension you can create a new notebook by:\n",
        "\n",
        "1. Opening the Command Palette (`Ctrl+Shift+P` or `Cmd+Shift+P`)\n",
        "2. Typing \"Jupyter: Create New Notebook\"\n",
        "\n",
        "Or simply creating a new file with a `.ipynb` extension."
      ]
    },
    {
      "cell_type": "markdown",
      "metadata": {},
      "source": [
        "### Running Cells"
      ]
    },
    {
      "cell_type": "markdown",
      "metadata": {},
      "source": [
        "There are several ways to execute cells:\n",
        "\n",
        "- **Shift+Enter**: Run the current cell and move to the next one\n",
        "- **Ctrl+Enter**: Run the current cell and stay on it\n",
        "- **Toolbar buttons**: Click the play button to run individual cells\n",
        "- **Run All**: Execute all cells in the notebook sequentially"
      ]
    },
    {
      "cell_type": "markdown",
      "metadata": {},
      "source": [
        "### Other Important Buttons and Features"
      ]
    },
    {
      "cell_type": "markdown",
      "metadata": {},
      "source": [
        "- **Restart kernel**: Sometimes your notebook's memory gets cluttered or you encounter errors. The kernel is the computational engine that runs your code; restarting it clears all variables and starts fresh\n",
        "- **Clear all outputs**: Remove all the output displays from your notebook, useful for sharing clean versions\n",
        "- **Save**: Regularly save your work (`Ctrl+S` or `Cmd+S`)\n",
        "- **Add cells**: Use the '+' button to add new cells above or below the current one"
      ]
    },
    {
      "cell_type": "markdown",
      "metadata": {},
      "source": [
        "### Good Practices"
      ]
    },
    {
      "cell_type": "markdown",
      "metadata": {},
      "source": [
        "- **Annotate your code**: Use Markdown cells to explain your thought process, describe what each section does, and note interesting findings\n",
        "- **Keep cells focused**: Each cell should represent a single logical step or concept\n",
        "- **Run cells in order**: Notebooks can be run out of sequence, but this can lead to confusion\n",
        "\n",
        "Jupyter Notebooks is the primary tool for learning Python throughout this course, so becoming comfortable with their interface and workflow early will pay dividends as we progress to more complex topics."
      ]
    },
    {
      "cell_type": "markdown",
      "metadata": {},
      "source": [
        "## Packages & Environments"
      ]
    },
    {
      "cell_type": "markdown",
      "metadata": {},
      "source": [
        "### What Are Packages"
      ]
    },
    {
      "cell_type": "markdown",
      "metadata": {},
      "source": [
        "Python packages are additional pieces of code that other developers have written and shared, extending Python's capabilities. These can range from simple utilities to complex frameworks for machine learning or computational biology analysis pipelines. Packages are one of Python's great strengths, as within this vast ecosystem there is normally some code already created that meets your research/project needs. You simply just have to install it, integrate it into your work, and use it.\n",
        "\n",
        "However, installing packages comes with some issues. Each package requires specific versions of other packages or Python itself. When you have a few, this may cause conflicts that break the usage of the packages and this is where environments are useful.\n",
        "\n",
        "We will cover installing and import packages into your workspace in **PF3**."
      ]
    },
    {
      "cell_type": "markdown",
      "metadata": {},
      "source": [
        "### What are Environments"
      ]
    },
    {
      "cell_type": "markdown",
      "metadata": {},
      "source": [
        "Environments are isolated Python installations that contain their own specific set of packages and dependencies. Think of an environment as a self-contained Python setup that exists independently from your main Python installation and from other environments on your system. This allows you to only install the combination of packages you need for a project, ones you know work together (package managers like `conda` and `uv` handle this automatically).\n",
        "\n",
        "**An example:**\n",
        "- Project A might need *pandas* version 1.5.0 and *numpy* version 1.20.0\n",
        "- Project B might need *pandas* version 2.0.0 and *numpy* version 1.24.0"
      ]
    },
    {
      "cell_type": "markdown",
      "metadata": {},
      "source": [
        "### To be Demonstrated Later"
      ]
    },
    {
      "cell_type": "markdown",
      "metadata": {},
      "source": [
        "We will demonstrate in a later release how to handle environments and package installation yourself, but for now just understand its importance.\n",
        "\n",
        "The future resources will cover:\n",
        "\n",
        "- **Creating Environments**: `python -m venv environment_name`\n",
        "- **Activating and Deactivating environments**: OS specific\n",
        "- **Installing Packages**: `python -m pip install`"
      ]
    }
  ],
  "metadata": {
    "language_info": {
      "name": "python"
    }
  },
  "nbformat": 4,
  "nbformat_minor": 2
}