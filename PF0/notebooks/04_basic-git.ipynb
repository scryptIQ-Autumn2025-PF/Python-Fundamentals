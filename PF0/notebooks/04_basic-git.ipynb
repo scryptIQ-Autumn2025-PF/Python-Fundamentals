{
  "cells": [
    {
      "cell_type": "markdown",
      "metadata": {},
      "source": [
        "# Basic Git"
      ]
    },
    {
      "cell_type": "markdown",
      "metadata": {},
      "source": [
        "## Introduction"
      ]
    },
    {
      "cell_type": "markdown",
      "metadata": {},
      "source": [
        "**Learning Objectives**\n",
        "- What is Git and Github\n",
        "- How to install Git\n",
        "- Basics of Git\n",
        "- Common errors"
      ]
    },
    {
      "cell_type": "markdown",
      "metadata": {},
      "source": [
        "Git is a version control system that tracks changes in your files over time, creating a detailed history of every modification you make to your project. Whilst Git can work with anything text-based, it works especially well for coding projects where there are continuous updates to varying parts, typically non-linear.\n",
        "\n",
        "Git is a distributed system, meaning that every copy of a Git repository contains the complete history of all the files. This means every contributor has a full backup of the entire project history, decreasing the likelihood of losing your code and making collaboration easier.\n",
        "\n",
        "A repository (often shortened to *repo*) is the Git name for the folder containing your whole project. In this folder there will be a `.git/` folder that contains all the metadata to track and configure your project/repository."
      ]
    },
    {
      "cell_type": "markdown",
      "metadata": {},
      "source": [
        "NOTE BOX\n",
        "\n",
        "This course has been setup to use **Github CodeSpaces** (see section [**Course setup**](./course-setup.html)). This doesn't require you to install Git yourself, but you will have to use some of GitHubs features."
      ]
    },
    {
      "cell_type": "markdown",
      "metadata": {},
      "source": [
        "## Git vs GitHub"
      ]
    },
    {
      "cell_type": "markdown",
      "metadata": {},
      "source": [
        "This distinction often confuses beginners:\n",
        "\n",
        "- **Git** is the tool—the version control software that runs on your computer and tracks changes\n",
        "- **GitHub** is a hosting service—a website that stores your Git repositories online, making them accessible from anywhere and enabling collaboration"
      ]
    },
    {
      "cell_type": "markdown",
      "metadata": {},
      "source": [
        "GitHub is the go-to service for storing and collaborating on code, used throughout business and academia. We will explore it further in the next section."
      ]
    },
    {
      "cell_type": "markdown",
      "metadata": {},
      "source": [
        "## Why Scientists Need Git"
      ]
    },
    {
      "cell_type": "markdown",
      "metadata": {},
      "source": [
        "Git and GitHub address many critical needs of researchers:\n",
        "\n",
        "- **Backup**: Your work is automatically backed up across multiple locations\n",
        "- **Collaboration**: Multiple researchers can work on the same codebase without overwriting each other's work\n",
        "- **Centralisation**: All your lab's code can be stored in one place. When people leave you can be sure you will still have access to their work, and likewise you can point new members to it for easy access\n",
        "- **Publishing**: Many journals now require code availability, and Git repositories provide a professional way to share your work"
      ]
    },
    {
      "cell_type": "markdown",
      "metadata": {},
      "source": [
        "If you and your lab are beginning to use more code, we recommend you create a lab organisation at [GitHub](https://github.com/), using this space to share and save your labs work."
      ]
    },
    {
      "cell_type": "markdown",
      "metadata": {},
      "source": [
        "## Installing Git"
      ]
    },
    {
      "cell_type": "markdown",
      "metadata": {},
      "source": [
        "With GitHub CodeSpaces, Git is already installed in the web-based VSCode, allowing you to push back your changes to your lesson repository. If you would just like to work this way then you can ignore this section.\n",
        "\n",
        "However, if you want to install it on your local computer then visit [git-scm.com](https://git-scm.com) and download the appropriate version for your operating system. The website will automatically detect your OS and suggest the correct download, which will walk you through installation."
      ]
    },
    {
      "cell_type": "markdown",
      "metadata": {},
      "source": [
        "### Verification"
      ]
    },
    {
      "cell_type": "markdown",
      "metadata": {},
      "source": [
        "\n",
        "After installation, open your terminal or command prompt and type:\n",
        "\n",
        "```\n",
        "git --version\n",
        ">> git version 2.50.0\n",
        "```"
      ]
    },
    {
      "cell_type": "markdown",
      "metadata": {},
      "source": [
        "You should see output showing the Git version number (as shown above), confirming the installation was successful."
      ]
    },
    {
      "cell_type": "markdown",
      "metadata": {},
      "source": [
        "### Initial Configuration"
      ]
    },
    {
      "cell_type": "markdown",
      "metadata": {},
      "source": [
        "Before using Git, you'll need to set up your identity:\n",
        "\n",
        "```\n",
        "git config --global user.name \"Your Name\"\n",
        "git config --global user.email \"your.email@example.com\"\n",
        "```\n",
        "\n",
        "Use the same email from your GitHub account."
      ]
    },
    {
      "cell_type": "markdown",
      "metadata": {},
      "source": [
        "## Basics"
      ]
    },
    {
      "cell_type": "markdown",
      "metadata": {},
      "source": [
        "The Git workflow follows a common pattern that you'll use repeatedly."
      ]
    },
    {
      "cell_type": "markdown",
      "metadata": {},
      "source": [
        "### 1. Cloning"
      ]
    },
    {
      "cell_type": "markdown",
      "metadata": {},
      "source": [
        "Cloning is the process of downloading a complete copy of a Git repository from a remote location (like GitHub) to your local computer. This creates an identical copy of the project, including all files, folders, and the entire version history (the metadata).\n",
        "\n",
        "All git commands are entered in the terminal and work in place, i.e., they will clone or look for information in the folder you are currently in.\n",
        "\n",
        "The standard clone command is:\n",
        "\n",
        "```\n",
        "git clone https://github.com/user/repository-name.git\n",
        "```\n",
        "\n",
        "The web link or SSH link (see [**Course setup**](./course-setup.html)) can be found on the repository's GitHub page, just click the **green Code box** for the dropdown:"
      ]
    },
    {
      "cell_type": "markdown",
      "metadata": {},
      "source": [
        "![Web link in GitHub](./images/git-link.png)"
      ]
    },
    {
      "cell_type": "markdown",
      "metadata": {},
      "source": [
        "When you run the clone command, as well as downloading the files it will set up a connection to the remote repository called \"origin\" and configure the local repository to track changes.\n",
        "\n",
        "Once cloning is complete, you'll need to navigate into the newly created folder:\n",
        "\n",
        "```\n",
        "cd repository-name\n",
        "```\n",
        "\n",
        "You're now inside your local copy of the repository and can begin working with the files."
      ]
    },
    {
      "cell_type": "markdown",
      "metadata": {},
      "source": [
        "### 2. Pull"
      ]
    },
    {
      "cell_type": "markdown",
      "metadata": {},
      "source": [
        "When working with remotely stored files, it's good practice to keep your local copy up to date with the centralised copy. We do this with the `git pull` command, which downloads the latest changes from the remote repository and incorporates them into your local copy.\n",
        "\n",
        "The standard pull command is:\n",
        "\n",
        "```\n",
        "git pull\n",
        "```"
      ]
    },
    {
      "cell_type": "markdown",
      "metadata": {},
      "source": [
        "You will find yourself using `pull` every time you start work, to make sure you are up to date with any possible changes. It's a good habit to get into. If you have any changes in your local version of the folder, Git will attempt to merge the two, unless there are conflicts (both you and the remote have changes to the same line of code)."
      ]
    },
    {
      "cell_type": "markdown",
      "metadata": {},
      "source": [
        "### 3. Add"
      ]
    },
    {
      "cell_type": "markdown",
      "metadata": {},
      "source": [
        "When we are happy with our changes to the code or just at the end of a working session, we will want to update the remote repository with the new code. For this we use the `git add` command to stage files for commit, which means you're preparing specific changes to be saved to your project. Git has a two-step process: first you stage changes with `add`, then you save them with `commit`.\n",
        "\n",
        "To stage all changes in your current directory, you add a `.` after `add`:\n",
        "\n",
        "```\n",
        "git add .\n",
        "```\n",
        "\n",
        "To stage a specific folder or file you add it explicitly:\n",
        "\n",
        "```\n",
        "git add your_file.py\n",
        "```\n",
        "\n",
        "This separation allows you to create focused commits where you have made several changes at once, but for differing reasons."
      ]
    },
    {
      "cell_type": "markdown",
      "metadata": {},
      "source": [
        "### 4. Commit Message"
      ]
    },
    {
      "cell_type": "markdown",
      "metadata": {},
      "source": [
        "Every staged change, ready to be sent to the remote repository, must be accompanied by a commit message. This should be a description of what the changes were for and becomes part of the permanent record. Try not to be vague as you may regret this when something goes wrong.\n",
        "\n",
        "The basic commit command with a message:\n",
        "\n",
        "```\n",
        "git commit -m \"Your descriptive message\"\n",
        "```"
      ]
    },
    {
      "cell_type": "markdown",
      "metadata": {},
      "source": [
        "### 5. Push"
      ]
    },
    {
      "cell_type": "markdown",
      "metadata": {},
      "source": [
        "Now that the changes are staged and properly described, we can push them back to the remote repository. To do this, we use the `git push` command.\n",
        "\n",
        "The standard push command:\n",
        "\n",
        "```\n",
        "git push\n",
        "```\n",
        "\n",
        "The flow of `add`, `commit`, and `push` are typically done at the same time, sequentially. You should find yourself doing this when:\n",
        "\n",
        "- Completing a logical unit of work\n",
        "- At the end of working sessions\n",
        "- Before switching computers"
      ]
    },
    {
      "cell_type": "markdown",
      "metadata": {},
      "source": [
        "VIDEO"
      ]
    },
    {
      "cell_type": "markdown",
      "metadata": {},
      "source": [
        "## Common Errors"
      ]
    },
    {
      "cell_type": "markdown",
      "metadata": {},
      "source": [
        "### Authentication Issues"
      ]
    },
    {
      "cell_type": "markdown",
      "metadata": {},
      "source": [
        "As mentioned, Git is now often connected to a remote online web service, GitHub. To do so you must authenticate your Git with your GitHub account. Head to section the next section on how to setup a secure connection to your account."
      ]
    },
    {
      "cell_type": "markdown",
      "metadata": {},
      "source": [
        "### Merge Conflicts"
      ]
    },
    {
      "cell_type": "markdown",
      "metadata": {},
      "source": [
        "Merge conflicts occur when the same lines in a file have been changed differently in your local copy and the remote repository. Git cannot automatically determine which version to keep. This error can sometimes occur when you will `push` back your completed assignments from **codespaces**. The next section will contain a quick fix to this."
      ]
    }
  ],
  "metadata": {
    "language_info": {
      "name": "python"
    }
  },
  "nbformat": 4,
  "nbformat_minor": 2
}