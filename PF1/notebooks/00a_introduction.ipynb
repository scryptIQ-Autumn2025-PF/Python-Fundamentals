{
  "cells": [
    {
      "cell_type": "markdown",
      "metadata": {},
      "source": [
        "# Python Fundamentals 1"
      ]
    },
    {
      "cell_type": "markdown",
      "metadata": {},
      "source": [
        "## Introduction"
      ]
    },
    {
      "cell_type": "markdown",
      "metadata": {},
      "source": [
        "ADD SOMETHING HERE. Testing a change."
      ]
    },
    {
      "cell_type": "markdown",
      "metadata": {},
      "source": [
        "## Learning Overview"
      ]
    },
    {
      "cell_type": "markdown",
      "metadata": {},
      "source": [
        "| **Concepts** | **Synergy** | **Syntax (Functions & Methods)** | **Objectives** |"
      ]
    },
    {
      "cell_type": "markdown",
      "metadata": {},
      "source": [
        "#### Input Output Operations\n",
        "- Understand how to use the `print()` and `input()` functions for basic **input/output** \n",
        "- Learn what **functions** are, and how **arguments** are passed into them  \n",
        "- Work with **strings**, including **escape sequences** and **f-strings** for formatting output  \n",
        "- Use **comments** to annotate code for clarity  \n",
        "- Create and use **variables** to store and manipulate data  \n",
        "- Recognise common built-in **data types** in Python (`int`, `float`, `str`, `bool`, *etc.*)  \n",
        "- Convert between types using **typecasting** functions such as `int()`, `float()`, `str()`, and `bool()`  \n",
        "- Explore **Boolean values** and how Python treats different values as `True` or `False`  \n",
        "- Apply built-in **mathematical operators** (`+`, `-`, `*`, `/`, `//`, `%`, `**`)  \n",
        "- Use the `abs()` function to calculate absolute values when only magnitude matters"
      ]
    },
    {
      "cell_type": "markdown",
      "metadata": {},
      "source": [
        "#### Logical Operations:\n",
        "- Understand the role of logical operations in programming  \n",
        "- Learn the basic comparison operators (`==`, `!=`, `<`, `>`, `<=`, `>=`)  \n",
        "- Use Boolean values (`True` and `False`) in expressions  \n",
        "- Combine conditions with logical operators (`and`, `or`, `not`)  \n",
        "- Evaluate and predict the outcomes of logical expressions  \n",
        "\n",
        "#### Conditional Statements:\n",
        "- Understand the purpose of conditional statements in controlling program flow  \n",
        "- Learn the syntax of `if`, `elif`, and `else` statements  \n",
        "- Correctly apply colons and indentation in conditional blocks  \n",
        "- Use comparison operators to create conditions  \n",
        "- Write simple decision-making programs that respond to user input  \n",
        "- Explore how multiple conditions can be structured and ordered logically  \n",
        "- Recognise and correct common errors in conditional statements "
      ]
    },
    {
      "cell_type": "markdown",
      "metadata": {},
      "source": [
        "#### Errors\n",
        "- Understand what **errors** are in Python  \n",
        "- Differentiate between **syntax errors** and **runtime errors**  \n",
        "- Read and interpret Python error messages  \n",
        "- Recognise common error types (e.g. `NameError`, `TypeError`, `IndexError`)  \n",
        "- Practise strategies for identifying and fixing errors  \n",
        "- Learn how **exceptions** work in Python  \n",
        "- Use `try` and `except` to handle errors  \n",
        "- Apply best practices for writing robust, error-tolerant code  "
      ]
    }
  ],
  "metadata": {
    "language_info": {
      "name": "python"
    }
  },
  "nbformat": 4,
  "nbformat_minor": 2
}