{
  "cells": [
    {
      "cell_type": "markdown",
      "metadata": {},
      "source": [
        "# Input/Output Operations"
      ]
    },
    {
      "cell_type": "markdown",
      "metadata": {},
      "source": [
        "## Introduction"
      ]
    },
    {
      "cell_type": "markdown",
      "metadata": {},
      "source": [
        "**Learning Objectives**\n",
        "- Understand how information can be inputted and outputted in Python\n",
        "- The basics of variables and data types\n",
        "- What are strings and how to use them\n",
        "- Basic mathematical operations and how to use them"
      ]
    },
    {
      "cell_type": "markdown",
      "metadata": {},
      "source": [
        "Before we can perform any analysis, build any models or even structure a program, we need to master some of the most basic tools Python provides: the ability to **send information out** (output), **receive information in** (input), and **store and work with that information** using **variables** and **data types**. \n",
        "\n",
        "This Python Fundamentals lesson walks through these core concepts."
      ]
    },
    {
      "cell_type": "markdown",
      "metadata": {},
      "source": [
        "## Input and Output (I/O) Operations"
      ]
    },
    {
      "cell_type": "markdown",
      "metadata": {},
      "source": [
        "### What are I/O operations?"
      ]
    },
    {
      "cell_type": "markdown",
      "metadata": {},
      "source": [
        "In computer science, **input/output (I/O)** refers to the communication between a computer program and the outside world. This might mean displaying the result of a computation on the screen, reading data from a file, prompting a user to enter their name, or receiving input from a device like a microscope, sequencer or camera. These interactions are crucial in scientific programming, where we often need to load datasets, prompt for experiment parameters, and print results.\n",
        "\n",
        "Python provides two simple but powerful built-in functions to handle basic I/O:\n",
        "\n",
        "- `print()` -- used to send output to the screen\n",
        "- `input()` -- used to receive user input\n",
        "\n",
        "These two functions make it possible to build interactive programs, pipelines and command-line tools."
      ]
    },
    {
      "cell_type": "markdown",
      "metadata": {},
      "source": [
        "VIDEO"
      ]
    },
    {
      "cell_type": "markdown",
      "metadata": {},
      "source": [
        "### What is a function in Python?"
      ]
    },
    {
      "cell_type": "markdown",
      "metadata": {},
      "source": [
        "Before we delve further, let's get to grips with what a **function** is, and what it does, in Python. A function is a **named block of code that carries out a specific task** whenever you ask it to. We have just introduced two of the most commonly used functions: `print()` and `input()`. Both are built-in functions, which means they are provided by Python itself, and are not written or defined by the user, or imported from a specific module or package; they are a mainstay of your plain Python installation. We will explore modules and packages further in **PF3**.\n",
        "\n",
        "Although they are both functions, `print()` and `input()` do actually behave quite differently to the majority of other functions. For instance, the `print()` function takes information you give it and sends it outward to the screen. By contrast, the `input()` function waits for information to come in from the user and then returns that text back into your program. This illustrates two important points about functions:\n",
        "\n",
        "-\tSome functions act mainly to produce an effect (like displaying text on the screen).\n",
        "-\tOthers are designed to produce a value that can be stored and used in further calculations.\n",
        "\n",
        "This is the surface-level definition of what Python functions are, and is all we need to know, at this point in the course. The specifics of function writing and defining are covered in later lessons, but the remainder of this lesson will now focus on `print()` and `input()`."
      ]
    },
    {
      "cell_type": "markdown",
      "metadata": {},
      "source": [
        "KEY TERMS BOX\n",
        "\n",
        "**Function**: A named block of code that carries out a specific task"
      ]
    },
    {
      "cell_type": "markdown",
      "metadata": {},
      "source": [
        "## Print"
      ]
    },
    {
      "cell_type": "markdown",
      "metadata": {},
      "source": [
        "### The `print()` function:"
      ]
    },
    {
      "cell_type": "markdown",
      "metadata": {},
      "source": [
        "As described above, the `print()` function is used to send textual output to the console or notebook. This also uniquely makes it the programmer's primary and most universal tool for **seeing what's happening** inside a script: whether that's displaying simple alphanumeric characters as a message, displaying the result of a calculation or operation, or even reporting errors. As we progress, we can even use `print()` to display the contents of data structures, such as variables, lists or dictionaries."
      ]
    },
    {
      "cell_type": "markdown",
      "metadata": {},
      "source": [
        "### Syntax:"
      ]
    },
    {
      "cell_type": "markdown",
      "metadata": {},
      "source": [
        "In order to make use of a function such as `print()` - or any other function for that matter - Python follows specific **syntax**. In this context, **syntax** refers to a set of rules that allow the **Python interpreter** (the part of your computer that is decoding what your Python program is trying to say and do) to translate the letters, numbers, spaces, indentations and punctuation in your Python program, into a **valid instruction**.\n",
        "\n",
        "Python has broad syntactic principles that are followed by many different functions but, furthermore, each specific Python function will have syntax of its own that helps the user very specifically control how it works.\n",
        "\n",
        "Before we dive into the various syntax of the `print()` function, run the code cell below. Its output will display beneath it, on your console (or screen)."
      ]
    },
    {
      "cell_type": "markdown",
      "metadata": {},
      "source": [
        "KEY TERMS BOX\n",
        "\n",
        "**What is syntax?**: Programming syntax refers the set of rules that dictate the structure and format of a programming language, without the set structure the code would not be read correctly by the interpreter."
      ]
    },
    {
      "cell_type": "markdown",
      "metadata": {},
      "source": [
        "### Printing a string:"
      ]
    },
    {
      "cell_type": "code",
      "execution_count": null,
      "metadata": {},
      "outputs": [],
      "source": [
        "print(\"Welcome to L2D.\")"
      ]
    },
    {
      "cell_type": "markdown",
      "metadata": {},
      "source": [
        "Note the Python function itself is called by typing the word `print`. It is then fed **arguments** in round parentheses. An **argument** is a piece of information that you pass into a function so that the function knows what to work with. Think of a function like a machine: the arguments are the *items you feed into the machine*, and the function then *processes* them in some way to give an output. Without arguments, many functions would not know what you want them to do, as they would have nothing to act on or process.\n",
        "\n",
        "If we revert to the `print` statement in the code cell above, we can display exactly what we are writing: and to do this, we must specify the data as a **string**. A **string** is essentially a sequence of alphanumeric characters, that `print` can display in exactly the order in which they are typed. These will be covered in considerably more depth in our Python Fundamentals 2 lesson.\n",
        "\n",
        "Specifying your argument as a string is achieved by using either **single** (`'...'`) or **double** (`\"...\"`) **quotation marks**. The use of single or double quotes is *interchangeable*, which also allows you to display quotes inside the output if you wish.  \n",
        "\n",
        "For example:"
      ]
    },
    {
      "cell_type": "code",
      "execution_count": null,
      "metadata": {},
      "outputs": [],
      "source": [
        "print('Welcome to L2D!')   # single quotes\n",
        "print(\"Welcome to L2D!\")   # double quotes"
      ]
    },
    {
      "cell_type": "markdown",
      "metadata": {},
      "source": [
        "PRACTICE EXERCISE\n",
        "\n",
        "Have a pratise in the cell below printing whatever you want to the screen:\n",
        "- The cell or block below actually runs the Python in your browser"
      ]
    },
    {
      "cell_type": "code",
      "execution_count": null,
      "metadata": {},
      "outputs": [],
      "source": [
        "# Type your print statement here and click Run when complete\n"
      ]
    },
    {
      "cell_type": "markdown",
      "metadata": {},
      "source": [
        "KEY TERMS BOX\n",
        "\n",
        "**Arguments**: A value or object that you pass into a function or method when you call it."
      ]
    },
    {
      "cell_type": "markdown",
      "metadata": {},
      "source": [
        "### Comments:"
      ]
    },
    {
      "cell_type": "markdown",
      "metadata": {},
      "source": [
        "Note also the `#` symbol, next to or above each `print` statement. In Python, everything that follows `#` is called a **comment**; that is, it is **excluded** from processing. This is a very useful feature that we can use to annotate our code in any way that we like, without having it be picked up and executed by the Python interpreter. In this case, this has allowed us to label the line with strings specified by double quotes, and single quotes, respectively.\n",
        "\n",
        "As aforementioned, the interchangeability of single and double quotes provides the advantage of being able to display single or double quotes as part of the string itself - or as part of the displayed output, as follows:"
      ]
    },
    {
      "cell_type": "markdown",
      "metadata": {},
      "source": [
        "KEY TERMS BOX\n",
        "\n",
        "**Comments**: User written statements that help to explain what the code is meant to achieve. Begin with a `#` symbol to prevent the interpreter running it as code."
      ]
    },
    {
      "cell_type": "code",
      "execution_count": null,
      "metadata": {},
      "outputs": [],
      "source": [
        "print('A student said: \"L2D is a superb course.\"')"
      ]
    },
    {
      "cell_type": "markdown",
      "metadata": {},
      "source": [
        "In this example, we want the speech marks (double quotes) to appear in the printed output; hence, we have made use of single quotes to define the string. However, if we used double quotes around the whole sentence to specify the string to print (which already contains double quotes), we would end up with two pairs of double quotes next to each other, which would produce an error:"
      ]
    },
    {
      "cell_type": "code",
      "execution_count": null,
      "metadata": {},
      "outputs": [],
      "source": [
        "# Run this cell to see the error\n",
        "\n",
        "print(\"A student said: \"L2D is a superb course.\"\")"
      ]
    },
    {
      "cell_type": "markdown",
      "metadata": {},
      "source": [
        "Therefore, interchangeability of double and single quotes when specifying a string in Python, provides a neat solution to this problem."
      ]
    },
    {
      "cell_type": "markdown",
      "metadata": {},
      "source": [
        "NOTE BOX\n",
        "\n",
        "While it does not matter if you use single or double quotation marks in your code, it is advised good practice to stick to one, and use this throughout your code, for the purposes of consistency and legibility. Of course, if you need to change over to one or the other, and this cannot be avoided because your string contains a single or double quote that you want to display, then it is acceptable to use both. But, in general, we advise picking one, and sticking to it."
      ]
    },
    {
      "cell_type": "markdown",
      "metadata": {},
      "source": [
        "### Optional arguments:"
      ]
    },
    {
      "cell_type": "markdown",
      "metadata": {},
      "source": [
        "Aside from printing strings, `print` is capable of a good deal more. To explain this, it is important to understand a further two, but not mutually exclusive, types of argument in Python: **optional** and **keyword arguments**.\n",
        "\n",
        "To understand this further, let's try and print multiple strings, in sequence. To do this, we pass each string as an argument into `print`, and we separate the strings out from one another using a comma: `,`"
      ]
    },
    {
      "cell_type": "code",
      "execution_count": null,
      "metadata": {},
      "outputs": [],
      "source": [
        "print(\"We are\", 'programming in Python.')"
      ]
    },
    {
      "cell_type": "markdown",
      "metadata": {},
      "source": [
        "In this example, notice that there are no spaces after the word 'are' or before the word 'programming'. There are two strings defined here, and yet somehow, `print` has automatically inserted a space between these two words, in the resulting output.\n",
        "\n",
        "The reason for this, is that the print function has a **default** separator between items fed into it as arguments, and this is a simple **space**. This default setting, however, can be modulated and changed. For instance. We could specify that '---' is the separator that is used. In order to modulate this default setting we need to use what we term a **keyword argument**, and specify the value that we want it to replace the default of a space with. In the case of the `print` function this keyword argument is `sep`. By default, the value that `sep` is set to is a space: `sep=' '`, as indicated by the single space between the two quotes. \n",
        "\n",
        "The keyword argument 'sep' is also called a function parameter. A parameter is any variable name listed when defining a function, this will covered further in **PF4**."
      ]
    },
    {
      "cell_type": "markdown",
      "metadata": {},
      "source": [
        "The `sep` keyword argument is also termed an **optional argument** because, when it isn't specified by the user, it has a **value set to it, by default**. As we go onto explore more functions in Python, you will see some keyword arguments arise that don't have default values, and are 'uncalled' by default, until specified by the user. But for now, `sep` has a default value, and is thus termed an optional argument.\n",
        "\n",
        "To prove this point, let's take the exact same line, and add in the optional argument `sep`, and set its value to be '---'."
      ]
    },
    {
      "cell_type": "code",
      "execution_count": null,
      "metadata": {},
      "outputs": [],
      "source": [
        "print(\"We are\", 'programming in Python.', sep='---')"
      ]
    },
    {
      "cell_type": "markdown",
      "metadata": {},
      "source": [
        "Now you can see clearly, that the separator between arguments is set to the `---` (three hyphens) that we specified."
      ]
    },
    {
      "cell_type": "markdown",
      "metadata": {},
      "source": [
        "KEY TERMS BOX\n",
        "\n",
        "**Optional Arguments**: Additional arguments that can be given to a function, but are not needed for the function to run.\n",
        "\n",
        "**Parameters**: A variable name listed inside the parentheses of a function definition. An argument is passed to a parameter through its variable name or keyword."
      ]
    },
    {
      "cell_type": "markdown",
      "metadata": {},
      "source": [
        "### Escape sequences:"
      ]
    },
    {
      "cell_type": "markdown",
      "metadata": {},
      "source": [
        "The `print()` function will also respond to **escape sequences**, which are character combinations that always begin with `\\`. They indicate display actions or characters that are not possible to type plainly into a string: for instance a 4-space tab indentation, or a new line. \n",
        "\n",
        "The most commonly encountered escape sequence is probably the newline character `\\n`, which tells print to display everything that follows it, on a new line. \n",
        "\n",
        "Other common escape sequences, their apparent results, and appropriate use-cases are listed in the table, below. "
      ]
    },
    {
      "cell_type": "markdown",
      "metadata": {},
      "source": [
        "| Escape Character | Description | With Escape Character | Output | When to Use |\n",
        "|------------------|-------------|---------|---------|-------------|\n",
        "| `\\n` | Newline (line break) | `Welcome\\nto L2D!` | `Welcome`<br>`to L2D!` | Creating multi-line output, formatting text blocks, separating lines |\n",
        "| `\\t` | Tab character | `Welcome\\tto L2D!` | `Welcome    to L2D!` | Creating columns, indenting text, aligning data in output |\n",
        "| `\\\"` | Double quote | `Welcome\\\"to L2D!` | `Welcome\"to L2D!` | Including literal quotes inside double-quoted strings: `\"She said \\\"Hi\\\"\"` |\n",
        "| `\\'` | Single quote | `Welcome\\'to L2D!` | `Welcome'to L2D!` | Including apostrophes inside single-quoted strings: `'It\\'s working'` |\n",
        "| `\\\\` | Literal backslash | `Welcome\\\\to L2D!` | `Welcome\\to L2D!` | File paths on Windows, regex patterns, when you need an actual backslash |\n",
        "| `\\r` | Carriage return | `Welcome\\rto L2D!` | `to L2D!` (overwrites) | Progress bars, overwriting text on same line, Windows line endings |\n",
        "| `\\b` | Backspace | `Welcome\\bto L2D!` | `Welcomto L2D!` | Removing characters, creating special text effects (rarely used) |\n",
        "| `\\0` | Null character | `Welcome\\0to L2D!` | `Welcome` (null byte) | Binary data, C-style string termination (advanced use) |\n",
        "| `\\f` | Form feed | `Welcome\\fto L2D!` | `Welcome`<br>&nbsp;&nbsp;&nbsp;&nbsp;&nbsp;&nbsp;`to L2D!` | Page breaks in printing, legacy formatting (rarely used) |\n",
        "| `\\v` | Vertical tab | `Welcome\\vto L2D!` | `Welcome`<br>&nbsp;&nbsp;&nbsp;&nbsp;&nbsp;&nbsp;&nbsp;&nbsp;&nbsp;&nbsp;&nbsp;`to L2D!` | Vertical alignment in old systems (rarely used) |\n",
        "\n",
        "**Note:** The actual visual output may vary depending on your terminal or display environment, especially for `\\r`, `\\b`, `\\f`, and `\\v`."
      ]
    },
    {
      "cell_type": "markdown",
      "metadata": {},
      "source": [
        "Another commonly encountered optional argument is `end`. This controls what is displayed at the end of the output. For instance, if you use two print statements in sequence, in a single block of code, the `end` optional argument is set to a default of `\\n`. This would print the first statement, and after it, a newline character; so that the second print statement, begins on the line after. This is demonstrated in the cell, below:"
      ]
    },
    {
      "cell_type": "markdown",
      "metadata": {},
      "source": [
        "KEY TERMS BOX\n",
        "\n",
        "**Escape Characters**: An escape character is a backslash `\\` followed by the character you want to insert."
      ]
    },
    {
      "cell_type": "code",
      "execution_count": null,
      "metadata": {},
      "outputs": [],
      "source": [
        "print('Welcome to L2D!')\n",
        "print('A biosciences-oriented Python course.')"
      ]
    },
    {
      "cell_type": "markdown",
      "metadata": {},
      "source": [
        "However, if we use the `end` optional argument, and set this value to a a single space ' ', notice that the second print statement outputs on the same line:"
      ]
    },
    {
      "cell_type": "code",
      "execution_count": null,
      "metadata": {},
      "outputs": [],
      "source": [
        "print('Welcome to L2D!', end=' ')\n",
        "print('A biosciences-oriented Python course.')"
      ]
    },
    {
      "cell_type": "markdown",
      "metadata": {},
      "source": [
        "PRACTICE EXERCISE\n",
        "\n",
        "In the cell below, feel free to play around with different values for `sep` and `end`, and get a feel for using print. The code in the cell below is editable so, once you have made your edits, run the code, and the output will reflect your changes. It is recommended to try a few different values, combinations *etc* to test out the principles introduced up to this point in the lesson."
      ]
    },
    {
      "cell_type": "code",
      "execution_count": null,
      "metadata": {},
      "outputs": [],
      "source": [
        "# Example 1:\n",
        "print('In this cell', end=' ')\n",
        "print(\"let's play around\", \"with the `print` function\", sep=' ------- ')\n",
        "print(\"to familiarise ourselves with how it works.\")\n",
        "print(\"\\n\")\n",
        "\n",
        "# Example 2:\n",
        "print(\"Gene\", \"mutation\", \"format\", sep=\" | \")\n",
        "print(\"--------------------------\")\n",
        "print(\"CFTR\", \"∆F508  \", \"FASTA\", sep=\" |  \", end=\"\\n\\n\")\n",
        "print(\"Loading...\", end=\" == \")\n",
        "print(\"done\")"
      ]
    },
    {
      "cell_type": "markdown",
      "metadata": {},
      "source": [
        "### Other optional arguments for `print()`:"
      ]
    },
    {
      "cell_type": "markdown",
      "metadata": {},
      "source": [
        "In addition to `sep` and `end`, the `print()` function has other keyword arguments that give you more control. These include the following, and are given in brief overview, as we won't use them too often in this course:\n",
        "\n",
        "- The `file` argument tells Python where to send the output — by default this is the console (`sys.stdout`), but you can redirect it to a text file or another stream. \n",
        "\n",
        "- The `flush` argument is a setting that forces the output to be written immediately rather than being temporarily stored in a buffer (this can be important in real-time logging). \n",
        "\n",
        "- Less commonly used but still available are `encoding` and `errors`, which matter when writing text containing non-ASCII characters to a file or stream: `encoding` specifies how characters should be represented (for example `\"utf-8\"`), while `errors` controls what Python does if a character cannot be encoded (for instance `\"ignore\"`, `\"replace\"`, or `\"strict\"`). In everyday use you may never need to set these, but they are powerful options when working with files, international text or streams.  "
      ]
    },
    {
      "cell_type": "markdown",
      "metadata": {},
      "source": [
        "## Variables: Storing Data"
      ]
    },
    {
      "cell_type": "markdown",
      "metadata": {},
      "source": [
        "A variable is a label that refers to data stored in memory. Think of it as a simple name that we give to an empty container (imagine it as an empty box) into which we can store data. You can store multiple different data types in a variable: anything from an integer, a string - or even other data structures such as lists or dictionaries (covered in **PF2/3**). \n",
        "\n",
        "Variables allow you to assign, update, reuse, and manipulate values. They allow you to use a simple name that can occur multiple times in a block of code. You can keep this variable name the same, and repeatedly alter the data stored within it, allowing a single change to affect every downstream occurrence of that variable in your code. This simple but powerful feature makes managing larger scripts much easier. Variables are vital to meaningful coding in Python, and can help manage your code and that data you process with it, in a neat and efficient way."
      ]
    },
    {
      "cell_type": "markdown",
      "metadata": {},
      "source": [
        "KEY TERMS BOX\n",
        "\n",
        "**Variables**: A named object that can store something in it, such as a number"
      ]
    },
    {
      "cell_type": "markdown",
      "metadata": {},
      "source": [
        "### Creating a variable, and storing data in it:"
      ]
    },
    {
      "cell_type": "markdown",
      "metadata": {},
      "source": [
        "In Python, we create a variable by using the **assignment operator** `=`. "
      ]
    },
    {
      "cell_type": "markdown",
      "metadata": {},
      "source": [
        "NOTE BOX\n",
        "\n",
        "It is important to note `=` symbol in Python does *not* mean \"equals\" in the mathematical sense. instead, it means *assign the value on the right-hand side to the name on the left-hand side*. "
      ]
    },
    {
      "cell_type": "markdown",
      "metadata": {},
      "source": [
        "The process of assigning data into a variable defines that variable, and is termed **assignment**. \n",
        "\n",
        "The code cell below demonstrates the creation of two new variables (`answer` and `greeting`), with integer and string data being assigned to each, respectively. A variable can be named anything, contain alphanumeric and even punctuation characters, but cannot contain spaces. It is good practice to name a variable something logical or intelligible, pertaining to the data it contains.\n",
        "\n",
        "In the example below, the variable names `answer` and `greeting` point to the integer **42** and the phrase \"**Hello, L2D!**\", respectively. When you use these variable names later, Python will look up the stored value.\n",
        "\n",
        "You can also reassign variables to hold new values, and Python will simply update what the name points to:"
      ]
    },
    {
      "cell_type": "code",
      "execution_count": null,
      "metadata": {},
      "outputs": [],
      "source": [
        "# Assign the number 42 to a variable called answer\n",
        "answer = 42\n",
        "\n",
        "# Assign a string to a variable called greeting\n",
        "greeting = \"Hello, L2D!\"\n",
        "\n",
        "# Now we can use the variables in our program\n",
        "print(answer)      # displays 42\n",
        "print(greeting)    # displays Hello, L2D!"
      ]
    },
    {
      "cell_type": "markdown",
      "metadata": {},
      "source": [
        "One of the most useful features of variables, is that you can **reassign** data to them, and replace their contents with new contents, by simply calling another assignment, subsequent to the first. The last assignment line in your code, reflects the value stored in the variable, after that point. When a value is reassigned to a variable, Python simply updates (and replaces) its contents with the new value:"
      ]
    },
    {
      "cell_type": "code",
      "execution_count": null,
      "metadata": {},
      "outputs": [],
      "source": [
        "answer = 100\n",
        "print(answer)    # now displays 100"
      ]
    },
    {
      "cell_type": "markdown",
      "metadata": {},
      "source": [
        "Variables can store many types of data — numbers, strings, lists, dictionaries, and more. As your the programs you write develop and grow, variables let you keep track of data, perform calculations, and manage information without having to repeat yourself."
      ]
    },
    {
      "cell_type": "markdown",
      "metadata": {},
      "source": [
        "PRACTICE EXERCISE\n",
        "\n",
        "In the box below, try changing the value assigned to the variable `colour` and run the cell. Each time, changing only that line, will automatically update the contents of the variable `colour`, in all of its subsequent instances, in the code.\n",
        "- Try adding your own print statement to a line below"
      ]
    },
    {
      "cell_type": "code",
      "execution_count": null,
      "metadata": {},
      "outputs": [],
      "source": [
        "# Edit the string for the variable colour\n",
        "colour = \"green\"\n",
        "\n",
        "print(colour, \"\\n\")\n",
        "print(\"I am particularly fond of the colour\", colour, \".\", sep=' ')\n",
        "print(\"I like clothes that are\", colour, sep=' ', end=' ')\n",
        "print(\"but only if it's only\", colour, \"and no other colours are present in the garments.\")"
      ]
    },
    {
      "cell_type": "markdown",
      "metadata": {},
      "source": [
        "WARNING BOX\n",
        "\n",
        "Variable names should follow PEP8 naming conventions (lowercase with underscores) and must not override built-in Python names like `int`, `list`, or `print`."
      ]
    },
    {
      "cell_type": "markdown",
      "metadata": {},
      "source": [
        "## Interactive Python "
      ]
    },
    {
      "cell_type": "markdown",
      "metadata": {},
      "source": [
        "### How it behaves:"
      ]
    },
    {
      "cell_type": "markdown",
      "metadata": {},
      "source": [
        "One (traditional) way to run your Python code, is by using Python scripts, and running these from the terminal. This is where your whole script or block of code can be saved as a file with the extension '.py'; to execute the code within your .py Python script, it must be called and run directly from the terminal, like this: \n",
        "\n",
        "```\n",
        "python my_python_script.py\n",
        "```\n",
        "\n",
        "In order to create a .py file, you can do so in a simple text editor application, making sure to simply change the file extension to .py. Or you can use a specialised code editor or Integrated Developer Environment (IDE).\n",
        "\n",
        "However, another way to run your Python code - similar to how we are doing in this page - is to run individual cells within a **Jupyter Notebook** - a commonly-used file format that supports individual cells of different formats (for instance - you can merge text and images in **markdown** cells, and have executable **Python** cells for storing and running code). \n",
        "\n",
        "One distinct behaviour of a Jupyter Notebook is that you don't always have to explicitly use print. In a **Jupyter Notebook**, the output appears beneath the code cell. In a **Python script**, it appears in the terminal or shell window. Notably, Jupyter will also display the final value in a cell without needing `print()` -- a behaviour that doesn't occur in a `.py` script:"
      ]
    },
    {
      "cell_type": "markdown",
      "metadata": {},
      "source": [
        "KEY TERMS BOX\n",
        "\n",
        "**Jupyter Notebooks**: "
      ]
    },
    {
      "cell_type": "code",
      "execution_count": null,
      "metadata": {},
      "outputs": [],
      "source": [
        "x = \"This is the contents of variable 'x'.\"\n",
        "\n",
        "x  # iPython automatically displays the contents of variable x, just by leaving the variable as the last line of the cell. print() was not needed."
      ]
    },
    {
      "cell_type": "code",
      "execution_count": null,
      "metadata": {},
      "outputs": [],
      "source": [
        "# Have a play with this one\n",
        "\n",
        "x = \"This is the contents of variable 'x'.\"\n",
        "y = \"This is the contents of variable 'y'.\"\n",
        "\n",
        "x  # As x is no longer the *last* line of the cell, iPython will not display its contents.\n",
        "y  # But since y is now the last of the cell, it will display the contents of y (alone), instead."
      ]
    },
    {
      "cell_type": "markdown",
      "metadata": {},
      "source": [
        "## F-strings"
      ]
    },
    {
      "cell_type": "markdown",
      "metadata": {},
      "source": [
        "Variables can also integrate directly into print statements within a **formatted string literal**, also known as **f-strings**. F-strings offer a legible, flexible way to include variables or expressions directly into strings (the characters entered between single or double quotes). \n",
        "\n",
        "Up until this point, we have been printing variables as individual, standalone arguments, separated from strings by a comma. The code cell below demonstrates how a variable can be directly incorporated into an f-string. The syntax of an f-string is that - as with an ordinary string - its start and end are contained within single or double quote marks, except these are preceeded by the letter `f`, with variables inserted directly into the strings in curly brackets, as below:"
      ]
    },
    {
      "cell_type": "code",
      "execution_count": null,
      "metadata": {},
      "outputs": [],
      "source": [
        "dose = 7.5\n",
        "\n",
        "print(f\"The dose is: {dose} mg.\")"
      ]
    },
    {
      "cell_type": "markdown",
      "metadata": {},
      "source": [
        "F-strings are not limited to simple text or numbers: you can use them with variables of many different **data types** in Python. These include integers (`int`), floating point numbers (`float`), strings (`str`), Boolean values (`bool`), as well as collections such as lists (`list`), tuples (`tuple`), and dictionaries (`dict`): we have not encountered many of these data types yet, but will introduce them more explicitly, later in the lesson. \n",
        "\n",
        "When you insert a variable into an f-string, Python automatically converts its value into a string representation so that it can be displayed. You can even combine this with the `type()` function - a function that tells you what type of data an object contains - inside the curly brackets to see both the value of the variable and its data type. This makes f-strings a powerful and flexible way to check, debug, and present a wide variety of information in your programs.  "
      ]
    },
    {
      "cell_type": "code",
      "execution_count": null,
      "metadata": {},
      "outputs": [],
      "source": [
        "# Examples of different data types\n",
        "\n",
        "patient_id = 12345          # int\n",
        "temperature = 36.7          # float  \n",
        "sample_name = \"SMP001\"      # str\n",
        "is_positive = True          # bool\n",
        "\n",
        "print(f\"Patient ID: {patient_id} (type: {type(patient_id)}).\\n\")\n",
        "print(f\"Temperature: {temperature} (type: {type(temperature)}).\\n\")\n",
        "print(f\"Sample: {sample_name} (type: {type(sample_name)}).\\n\")\n",
        "print(f\"Test positive: {is_positive} (type: {type(is_positive)}).\\n\")"
      ]
    },
    {
      "cell_type": "markdown",
      "metadata": {},
      "source": [
        "You will encounter both f-strings and the `type()` function throughout this course."
      ]
    },
    {
      "cell_type": "markdown",
      "metadata": {},
      "source": [
        "## The input() function"
      ]
    },
    {
      "cell_type": "markdown",
      "metadata": {},
      "source": [
        "Converse to the `print()` function, which is used to send information **out** of a Python script and onto the console, the `input()` function is used to bring information **in**. When used, you can display a message on the console to the user, and allow them to type input in using their keyboard and - upon hitting return or enter - returns the collected input as a **string**."
      ]
    },
    {
      "cell_type": "markdown",
      "metadata": {},
      "source": [
        "NOTE BOX \n",
        "\n",
        "In Jupyter notebooks, `input()` creates an interactive text box below the cell. This is where you can type your input, and hit enter to complete the function's execution. \n",
        "\n",
        "Run the cell below, type your name into the box, and hit enter."
      ]
    },
    {
      "cell_type": "code",
      "execution_count": null,
      "metadata": {},
      "outputs": [],
      "source": [
        "# To work in a browser this will generate a pop-up. \n",
        "# If your browser blocks pop-ups, this may not appear.\n",
        "\n",
        "name = input(\"Enter your name: \")\n",
        "print(\"Hello\", name, \"!\")"
      ]
    },
    {
      "cell_type": "markdown",
      "metadata": {},
      "source": [
        "### Prompt customisation with `input()`:"
      ]
    },
    {
      "cell_type": "markdown",
      "metadata": {},
      "source": [
        "Uniquely, whatever data type you enter into the `input()` function, it will **always convert this into a string**. \n",
        "\n",
        "Run the code cell below, enter your age as an integer, and notice the data type that it returns for your collected input:"
      ]
    },
    {
      "cell_type": "code",
      "execution_count": null,
      "metadata": {},
      "outputs": [],
      "source": [
        "import js\n",
        "\n",
        "def input(prompt=\"\"):\n",
        "    return js.prompt(prompt)"
      ]
    },
    {
      "cell_type": "code",
      "execution_count": null,
      "metadata": {},
      "outputs": [],
      "source": [
        "age = input(\"Enter your age: \")\n",
        "print(f\"You are {age} years old. \\nThe data you just entered has been converted into type: {type(age)}.\")"
      ]
    },
    {
      "cell_type": "markdown",
      "metadata": {},
      "source": [
        "In this example, the variable `age` now contains your age (which you entered as a whole number, or integer), stored as data of type string (or `str`). So far, we have encountered two data types in this lesson: string and integer (data type `str` and `int`, respectively).\n",
        "\n",
        "If we then wish to convert this string data into an integer (data type `int`), we must explicitly convert data type `str` to `int`. We call this data conversion **typecasting**, which is covered in greater detail in the section on **data types**, later in this lesson.\n",
        "\n",
        "In order to explicitly convert or typecast `str` into `int` when a user enters a whole number, you can **wrap** the `input()` function call with the `int()` function to convert the string into an integer. In programming, the term **wrapping** refers to placing one function call or operation *around* another; this is often done by placing one function call **inside the round parentheses of another**. In this way, **the output of the inner function, becomes the input of the outer function**. \n",
        "\n",
        "Run the code in the cell below, and you will notice that the input is collected and typecasted, in a single line. The contents of the `age` variable, is now the user-collected input given as an integer (data type `int`)."
      ]
    },
    {
      "cell_type": "code",
      "execution_count": null,
      "metadata": {},
      "outputs": [],
      "source": [
        "age = int(input(\"Please enter your age: \"))\n",
        "print(f\"Your age of {age} years old, has been typecasted from a string into data type {type(age)}.\")"
      ]
    },
    {
      "cell_type": "markdown",
      "metadata": {},
      "source": [
        "PRACTICE EXERCISE\n",
        "\n",
        "Create an input that asks the user to enter their home town and save it to a variable:\n",
        "- Format an appropriate print statement for the given answer"
      ]
    },
    {
      "cell_type": "markdown",
      "metadata": {},
      "source": [
        "## Data types in Python"
      ]
    },
    {
      "cell_type": "markdown",
      "metadata": {},
      "source": [
        "Every value in Python has a **type**. We have looked at types `str` and `int`, so far, and have introduced the `type()` function, as a useful way of determining what type of data is stored in a variable. \n",
        "\n",
        "The importance of types in Python include informing the programmer as to what kind of information they are dealing with, and this subsequently defines what can sort of operations can be performed on it. \n",
        "\n",
        "For instance, `\"42\"` is a string type (text), while `42` is an integer type (whole number). Even though they look similar, Python treats them very differently: you can use logical operations to calculate `42 + 1` to obtain `43`. However, doing so with a string simply concatenates (or joins) them, with `\"42\" + \"1\"` giving `\"421\"`. In short, types are **like labels** that tell Python what kind of information you’re working with, ensuring that its operations behave, predictably. "
      ]
    },
    {
      "cell_type": "markdown",
      "metadata": {},
      "source": [
        "In more methodical summary, types:\n",
        "\n",
        "- **Control behaviour** — the same operator or function can act differently depending on the type.  \n",
        "- **Prevent errors** — Python will stop you from adding a number to a string, because it wouldn’t make sense.  \n",
        "- **Guide your thinking** — knowing the type of your data helps you decide what methods or functions are available.  \n",
        "- **Support flexibility** — Python has many built-in types (strings, integers, floats, lists, dictionaries, etc.), and you can also define your own.  "
      ]
    },
    {
      "cell_type": "markdown",
      "metadata": {},
      "source": [
        "### Built-in Types in Python:"
      ]
    },
    {
      "cell_type": "markdown",
      "metadata": {},
      "source": [
        "Below is a table of the various data types built into Python. \n",
        "\n",
        "| Type | Example | Description |\n",
        "|------|---------|-------------|\n",
        "| `int` | `42` | Whole numbers |\n",
        "| `float` | `3.14` | Decimal numbers |\n",
        "| `str` | `'geneX'` | Text data |\n",
        "| `bool` | `True`, `False` | Boolean values for logical operations |\n",
        "| `complex` | `2 + 3j` | Complex numbers |\n",
        "| `list` | `[1, 2, 3]` | Ordered, mutable sequence |\n",
        "| `tuple` | `(1, 2)` | Ordered, immutable sequence |\n",
        "| `dict` | `{'a': 1}` | Key-value pair mapping |\n",
        "| `set` | `{1, 2, 3}` | Unordered collection of unique items |\n",
        "| `NoneType` | `None` | Represents null or absence of value |\n",
        "\n",
        "Across this course, and with many biological and medical datasets, you will likely encounter almost all of the types listed, above."
      ]
    },
    {
      "cell_type": "markdown",
      "metadata": {},
      "source": [
        "### Type conversion and typecasting:\n"
      ]
    },
    {
      "cell_type": "markdown",
      "metadata": {},
      "source": [
        "Python allows **type conversion**, also known as **typecasting**, to change a value's type. This is crucial when dealing with data from external sources, user input, or read-in files.\n",
        "\n",
        "Typecasting is often necessary when the type of data you have is not the type you need for an operation. Our earlier example of the `input()` function above, explains why it could be necessary. \n",
        "\n",
        "If you want to perform calculations with that number, you must *typecast* the string into an integer using the `int()` function, or into a floating-point (decimal) number using the `float()` function. Likewise, you can turn numbers into strings with the `str()` function, which can useful for combining numbers with text, to give customised output. "
      ]
    },
    {
      "cell_type": "markdown",
      "metadata": {},
      "source": [
        "Aside from `str` and `int`, typecasting can also be important when moving between other types of data. For instance, typecasting can also come up when working with numeric data, booleans (`True` or `False`), and missing values. \n",
        "\n",
        "As an example, you might be analysing gene expression levels, measured as floating-point (decimal) values. You may want to simplify these into a simpler expressed *vs.* not expressed binary, and one way to do this is by typecasting the values into a **Boolean** value of data type `bool`. \n",
        "\n",
        "A **Boolean** is a data type in Python that represents one of two possible values: `True` or `False`. Booleans are used to express logical conditions — for example, whether a statement is correct, whether a comparison holds, or whether something is present or absent.  \n",
        "\n",
        "You can convert a data value into a Boolean using Python's built-in `bool()` function. This converts a value into a Boolean (`True` or `False`), following these two simple rules: \n",
        "\n",
        "- Values that are **non-empty** or **non-zero** become `True`.  \n",
        "- Values that are considered **empty** or **zero** become `False`. This also includes the datatype `None` given in the table above for values that are missing, which are also converted to the Boolean `False`.\n",
        "\n",
        "This is an implicit condition of this function. Later in this lesson we will explore **conditional statements** - a construct in Python used to execute a block of code depending on whether a specific condition is met, or not. In a nearly similar fasion, the `bool` function implicitly *evaluates* a value: with non-zero being converted into `True`, and zero or missing values are `False`. \n",
        "\n",
        "In the cell below, try changing the value assigned to the variable `expression_level` and see how the `bool` function responds:"
      ]
    },
    {
      "cell_type": "markdown",
      "metadata": {},
      "source": [
        "KEY TERMS BOX\n",
        "\n",
        "**Data Types**: Categories that define what kind of value a variable can hold and what operations can be performed on it. Python's main built-in types include integers, floats, strings, booleans, lists, tuples, dictionaries, and sets.\n",
        "\n",
        "**Typecasting**: Converting a value from one data type to another, such as `int(\"42\")` to convert a string to an integer, or `str(3.14)` to convert a float to a string.\n",
        "\n",
        "**Boolean**: A data type with only two possible values: `True` or `False`. Used for logical operations and conditional statements.\n",
        "\n",
        "**Integers**: Whole numbers without decimal points, such as `42`, `-7`, or `0`. Python integers have unlimited precision.\n",
        "\n",
        "**Floats**: Numbers with decimal points, such as `3.14`, `-0.5`, or `2.0`. Short for \"floating-point numbers\".\n",
        "\n",
        "**Strings**: Sequences of characters enclosed in quotes, such as `\"hello\"`. Used to represent text.\n",
        "\n",
        "**F-strings**: Formatted string that allow embedding variables inside strings using curly braces, such as `f\"The answer is {x + y}\"`. They start with an `f` prefix before the opening quote."
      ]
    },
    {
      "cell_type": "code",
      "execution_count": null,
      "metadata": {},
      "outputs": [],
      "source": [
        "expression_level = 1.0 # Gene expression level in arbitrary units (float).\n",
        "\n",
        "is_expressed = bool(expression_level) # Typecast to boolean.\n",
        "\n",
        "print(\"Expression level:\", expression_level)\n",
        "print(\"Is the gene expressed?\", is_expressed)\n",
        "\n",
        "missing_value = None # Handling missing values\n",
        "print(\"Missing value is treated as:\", bool(missing_value))"
      ]
    },
    {
      "cell_type": "markdown",
      "metadata": {},
      "source": [
        "TIP BOX\n",
        "\n",
        "As shown above, a zero/empty value becomes `False` and non-zero/empty become `True` with `bool()`. However, the values `False` and `True` are also equivalent to `0` and `1` themselves. You can actually substitute boolean values for the integers `0` and `1` if you wanted to. Although it is more readable to use the text based versions."
      ]
    },
    {
      "cell_type": "markdown",
      "metadata": {},
      "source": [
        "## Mathematical Operations"
      ]
    },
    {
      "cell_type": "markdown",
      "metadata": {},
      "source": [
        "Python also has built-in syntax that is very useful for performing simple calculations, without the need to import or install any external libraries or modules. The syntax for these are listed, below."
      ]
    },
    {
      "cell_type": "markdown",
      "metadata": {},
      "source": [
        "| Operator | Name                    | Description |\n",
        "|----------|-------------------------|-------------|\n",
        "| `+`      | Addition                | Adds two values together |\n",
        "| `-`      | Subtraction             | Subtracts the right value from the left value |\n",
        "| `*`      | Multiplication          | Multiplies two values together |\n",
        "| `/`      | Division                | Divides the left value by the right value (always returns data type `float`) |\n",
        "| `//`     | Floor division          | Divides and rounds the result down to the nearest whole number (always returns data type `int`) |\n",
        "| `%`      | Modulus (remainder)     | Returns the remainder after division |\n",
        "| `**`     | Exponentiation          | Raises the left value to the power of the right value |"
      ]
    },
    {
      "cell_type": "markdown",
      "metadata": {},
      "source": [
        "Observe the output of the code in the cells below, to see each of these operators in action:"
      ]
    },
    {
      "cell_type": "code",
      "execution_count": null,
      "metadata": {},
      "outputs": [],
      "source": [
        "# Let's begin by defining two variables to use in our calculations:\n",
        "\n",
        "a = 12\n",
        "b = 5"
      ]
    },
    {
      "cell_type": "code",
      "execution_count": null,
      "metadata": {},
      "outputs": [],
      "source": [
        "# Addition:\n",
        "\n",
        "a + b"
      ]
    },
    {
      "cell_type": "code",
      "execution_count": null,
      "metadata": {},
      "outputs": [],
      "source": [
        "# Subtraction:\n",
        "\n",
        "a - b"
      ]
    },
    {
      "cell_type": "code",
      "execution_count": null,
      "metadata": {},
      "outputs": [],
      "source": [
        "# Multiplication:\n",
        "\n",
        "a * b"
      ]
    },
    {
      "cell_type": "code",
      "execution_count": null,
      "metadata": {},
      "outputs": [],
      "source": [
        "# Division:\n",
        "\n",
        "a / b"
      ]
    },
    {
      "cell_type": "code",
      "execution_count": null,
      "metadata": {},
      "outputs": [],
      "source": [
        "# Floor division:\n",
        "\n",
        "a // b"
      ]
    },
    {
      "cell_type": "code",
      "execution_count": null,
      "metadata": {},
      "outputs": [],
      "source": [
        "# Modulus (remainder):\n",
        "\n",
        "a % b"
      ]
    },
    {
      "cell_type": "code",
      "execution_count": null,
      "metadata": {},
      "outputs": [],
      "source": [
        "# Exponentiation:\n",
        "\n",
        "a ** b"
      ]
    },
    {
      "cell_type": "markdown",
      "metadata": {},
      "source": [
        "PRACTICE EXERCISE\n",
        "\n",
        "Have a play around with the different mathematical operations in the code cell below:"
      ]
    },
    {
      "cell_type": "code",
      "execution_count": null,
      "metadata": {},
      "outputs": [],
      "source": [
        "# You can edit these variables\n",
        "x = 11\n",
        "y = 4"
      ]
    },
    {
      "cell_type": "markdown",
      "metadata": {},
      "source": [
        "KEY TERMS BOX\n",
        "\n",
        "**Operators**: Symbols that used to perform operations on variables and values. For example, `+`, `-`, `=`, `**`."
      ]
    },
    {
      "cell_type": "markdown",
      "metadata": {},
      "source": [
        "## Absolute value"
      ]
    },
    {
      "cell_type": "markdown",
      "metadata": {},
      "source": [
        "### The `abs()` function:"
      ]
    },
    {
      "cell_type": "markdown",
      "metadata": {},
      "source": [
        "Alongside operators, Python also provides another useful built-in function for working with numbers. This is the `abs()` function, which returns the **absolute value** of a number. The absolute value represents the number’s distance from zero, with any **negative sign removed**. \n",
        "\n",
        "Run the code in the cell below to understand how this works:"
      ]
    },
    {
      "cell_type": "code",
      "execution_count": null,
      "metadata": {},
      "outputs": [],
      "source": [
        "# Absolute difference in cell count\n",
        "\n",
        "initial_cells = 5000\n",
        "final_cells = 3800\n",
        "\n",
        "change = final_cells - initial_cells\n",
        "\n",
        "print(f\"Change:                 {change}\")\n",
        "print(f\"Absolute difference:     {abs(change)}\")    # absolute difference = 1200"
      ]
    },
    {
      "cell_type": "markdown",
      "metadata": {},
      "source": [
        "In this example, you can see how `abs()` is particularly useful when dealing with changes, **where only the magnitude of the difference matters**, irrespective of whether the difference represents an *increase* or *decrease*. \n",
        "\n",
        "In the example code cell, above, a drop in white blood cell count of `-1200` and a rise of `1200` both have the same absolute change in value. And in such situations, using `abs()` can be a useful way of standardising lots of output."
      ]
    },
    {
      "cell_type": "markdown",
      "metadata": {},
      "source": [
        "## Summary"
      ]
    },
    {
      "cell_type": "markdown",
      "metadata": {},
      "source": [
        "In this lesson, we introduced several core concepts in Python that form the foundation of all programming in the language. We learned that **input and output (I/O)** are handled using `print()` for displaying information and `input()` for receiving user input. We introduced **functions** as named blocks of code that perform specific tasks, able to accept arguments inside parentheses. We explored **strings** as sequences of characters that can be manipulated with **escape sequences** and formatted dynamically using f-strings. Code annotation and instruction was introduced in the form of in-line **comments**, landmarked by `#`, allowing us to document our code without affecting how it runs. We also looked at **variables**, which let us store, reuse and modify values, and at **data types** such as `str`, `int`, `float`, and `bool`, which define the kind of information being processed. **Typecasting** enables conversion between these data types when needed, while **Booleans** (`True` and `False`) underpin logical operations, with Python automatically interpreting values as true and false, respectively. Finally, we examined Python’s **mathematical operators** (`+`, `-`, `*`, `/`, `//`, `%`, `**`) for their use in calculations, together with the `abs()` function, which returns the absolute value of a number: useful when only the size of a change matters, irrespective of a number's polarity."
      ]
    }
  ],
  "metadata": {
    "kernelspec": {
      "display_name": "Python 3",
      "language": "python",
      "name": "python3"
    },
    "language_info": {
      "codemirror_mode": {
        "name": "ipython",
        "version": 3
      },
      "file_extension": ".py",
      "mimetype": "text/x-python",
      "name": "python",
      "nbconvert_exporter": "python",
      "pygments_lexer": "ipython3",
      "version": "3.12.11"
    }
  },
  "nbformat": 4,
  "nbformat_minor": 4
}