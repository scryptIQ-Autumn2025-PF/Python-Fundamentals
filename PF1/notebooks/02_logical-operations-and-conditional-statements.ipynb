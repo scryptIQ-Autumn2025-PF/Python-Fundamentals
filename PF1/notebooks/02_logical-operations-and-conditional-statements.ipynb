{
  "cells": [
    {
      "cell_type": "markdown",
      "id": "79e74253",
      "metadata": {},
      "source": [
        "# Logical Operations and Conditional Statements"
      ]
    },
    {
      "cell_type": "markdown",
      "id": "0d650306",
      "metadata": {},
      "source": [
        "## Introduction"
      ]
    },
    {
      "cell_type": "markdown",
      "id": "22409de0",
      "metadata": {},
      "source": [
        "**Learning Objectives**\n",
        "- What is a logical operation and how to use them\n",
        "- What is a conditional statement and how to use them"
      ]
    },
    {
      "cell_type": "markdown",
      "id": "41f73964",
      "metadata": {},
      "source": [
        "Before we delve into both logical operations and conditional statements, it is important to define what both of these have in common: they allow the flow of a program to be modulated in response to an interaction with data. Conceptually, the directive 'if a is true, do b' is a simple arrangement of words that implies an action only happens, in response to a condition being met. \n",
        "\n",
        "While both logical operators and conditional statements differ in Python, both have at least this much in common. With this in mind, let's dive into each concept, in more detail."
      ]
    },
    {
      "cell_type": "markdown",
      "id": "aaa79aec",
      "metadata": {},
      "source": [
        "## Logical Operations in Python"
      ]
    },
    {
      "cell_type": "markdown",
      "id": "49a748c0",
      "metadata": {},
      "source": [
        "Intrinsic to Python is a method of making decisions by comparing values with one another. For example, we can ask questions such as: \"is `value_a` equal to `value_b`?\" Or \"is `value_c` greater than `value_d`?\" The answer that is returned is in the form of the data type **boolean** (i.e. either `True` or `False`). From a Pythonic perspective, we term these questions **logical operations**; and without them, your block of code would just run from top to bottom without interacting with your data, at all. \n",
        "\n",
        "Logical operations are useful whenever it is required of a program, to make choices. For example, they allow you to check whether inputted data meets certain criteria, to compare results from calculations, or even to combine several checks into a single decision. Logical operations are the building blocks that conditional statements rely on: once a condition evaluates to `True` or `False`, Python knows whether to execute a particular block of code. In this way, logical operations provide the \"questions” that drive the “answers” of decision-making in your programs."
      ]
    },
    {
      "cell_type": "markdown",
      "id": "bda3c4f4",
      "metadata": {},
      "source": [
        "Python has specific syntax (often common punctuation marks) that constitue what we call **logical operators**. Below is a list of built-in logical operators in Python:\n",
        "\n",
        "- `==` – **equality** operator; checks if two values are the same.\n",
        "- `!=` – **inequality** operator; checks if two values are different.\n",
        "- `<` – **less-than** operator; checks if the value on the left is smaller than the one on the right.\n",
        "- `>` – **greater-than** operator; checks if the value on the left is larger than the one on the right.  \n",
        "- `<=` – **less-than-or-equal-to** operator; checks if the value on the left is smaller than or equal to the one on the right.\n",
        "- `>=` – **greater-than-or-equal-to** operator; checks if the value on the left is larger than or equal to the one on the right. "
      ]
    },
    {
      "cell_type": "markdown",
      "id": "75684c16",
      "metadata": {},
      "source": [
        "- `and` – logical **conjunction**; returns `True` only if both conditions are true.\n",
        "- `or` – logical **disjunction**; returns `True` if at least one condition is true. \n",
        "- `not` – logical **negation**; inverts the truth value of a condition (True becomes False, and vice versa)."
      ]
    },
    {
      "cell_type": "markdown",
      "id": "3e15875b",
      "metadata": {},
      "source": [
        "KEY TERMS BOX\n",
        "\n",
        "**Arithmetic operators**: Consists of basic mathematical operations such as `+`, `-`, `*` to  add, minus, and multiply numbers respectively.\n",
        "\n",
        "**Logical operations**: Consists of a mix of mathematical comparators such as equivalent `==` and greater than `>`, and language based logical statements such as `and`, `or`, and `not`. They are used in combination with conditional statements to dictate workflows."
      ]
    },
    {
      "cell_type": "markdown",
      "id": "8bbbdaab",
      "metadata": {},
      "source": [
        "Let's define the values of two variables (as integers), in the code cell below:"
      ]
    },
    {
      "cell_type": "code",
      "execution_count": null,
      "id": "4c50de48",
      "metadata": {},
      "outputs": [],
      "source": [
        "# Define variables:\n",
        "\n",
        "a = 5\n",
        "b = 6"
      ]
    },
    {
      "cell_type": "markdown",
      "id": "5b01f29f",
      "metadata": {},
      "source": [
        "We can then use the comparative operator `==` (also referred to as the **equality operator**) to check whether one value is equal to another."
      ]
    },
    {
      "cell_type": "code",
      "execution_count": null,
      "id": "2e34aa23",
      "metadata": {},
      "outputs": [
        {
          "data": {
            "text/plain": [
              "False"
            ]
          },
          "execution_count": 2,
          "metadata": {},
          "output_type": "execute_result"
        }
      ],
      "source": [
        "# Equality operator (==)\n",
        "\n",
        "a == b"
      ]
    },
    {
      "cell_type": "code",
      "execution_count": null,
      "id": "44f3f70d",
      "metadata": {},
      "outputs": [
        {
          "data": {
            "text/plain": [
              "True"
            ]
          },
          "execution_count": 3,
          "metadata": {},
          "output_type": "execute_result"
        }
      ],
      "source": [
        "# Inequality operator (!=)\n",
        "\n",
        "a != b"
      ]
    },
    {
      "cell_type": "code",
      "execution_count": null,
      "id": "1a614b42",
      "metadata": {},
      "outputs": [
        {
          "data": {
            "text/plain": [
              "True"
            ]
          },
          "execution_count": 4,
          "metadata": {},
          "output_type": "execute_result"
        }
      ],
      "source": [
        "# Less-than operator (<)\n",
        "\n",
        "a < b"
      ]
    },
    {
      "cell_type": "code",
      "execution_count": null,
      "id": "b6ea6ddb",
      "metadata": {},
      "outputs": [
        {
          "data": {
            "text/plain": [
              "False"
            ]
          },
          "execution_count": 5,
          "metadata": {},
          "output_type": "execute_result"
        }
      ],
      "source": [
        "# Greater-than operator (>)\n",
        "\n",
        "a > b"
      ]
    },
    {
      "cell_type": "code",
      "execution_count": null,
      "id": "ede66300",
      "metadata": {},
      "outputs": [
        {
          "data": {
            "text/plain": [
              "True"
            ]
          },
          "execution_count": 6,
          "metadata": {},
          "output_type": "execute_result"
        }
      ],
      "source": [
        "# Less-than-or-equal operator (<=)\n",
        "\n",
        "a <= b"
      ]
    },
    {
      "cell_type": "code",
      "execution_count": null,
      "id": "be50008b",
      "metadata": {},
      "outputs": [
        {
          "data": {
            "text/plain": [
              "False"
            ]
          },
          "execution_count": 7,
          "metadata": {},
          "output_type": "execute_result"
        }
      ],
      "source": [
        "# Greater-than-or-equal operator (>=)\n",
        "\n",
        "a >= b"
      ]
    },
    {
      "cell_type": "code",
      "execution_count": null,
      "id": "3d9d9533",
      "metadata": {},
      "outputs": [
        {
          "data": {
            "text/plain": [
              "True"
            ]
          },
          "execution_count": 8,
          "metadata": {},
          "output_type": "execute_result"
        }
      ],
      "source": [
        "# Logical conjunction (and)\n",
        "\n",
        "# Checks that both conditions on the left and right of the `and` operator are met.\n",
        "\n",
        "a == 5 and b == 6"
      ]
    },
    {
      "cell_type": "code",
      "execution_count": null,
      "id": "25be41c7",
      "metadata": {},
      "outputs": [
        {
          "data": {
            "text/plain": [
              "True"
            ]
          },
          "execution_count": 9,
          "metadata": {},
          "output_type": "execute_result"
        }
      ],
      "source": [
        "# Logical disjunction (or)\n",
        "\n",
        "# Checks that either the condition on the left or that on the right of the `or` operator, is met.\n",
        "\n",
        "a == 5 or b == 10"
      ]
    },
    {
      "cell_type": "code",
      "execution_count": null,
      "id": "ac9a88bc",
      "metadata": {},
      "outputs": [
        {
          "data": {
            "text/plain": [
              "True"
            ]
          },
          "execution_count": 10,
          "metadata": {},
          "output_type": "execute_result"
        }
      ],
      "source": [
        "# Logical negation (not)\n",
        "\n",
        "# Checks that the condition inside the round brackets is NOT met.\n",
        "\n",
        "not (a == b)"
      ]
    },
    {
      "cell_type": "code",
      "execution_count": null,
      "id": "3b447944",
      "metadata": {},
      "outputs": [
        {
          "data": {
            "text/plain": [
              "-6"
            ]
          },
          "execution_count": 11,
          "metadata": {},
          "output_type": "execute_result"
        }
      ],
      "source": [
        "# Have a play around with the logical operations yourself\n"
      ]
    },
    {
      "cell_type": "markdown",
      "id": "6b01a0e1",
      "metadata": {},
      "source": [
        "FACT BOX\n",
        "\n",
        "While we are lumping all of these operators under the heading \"logical operators\", there is actually a subtle difference between some of them. In Python we technically have both **comparison operators** *and* **logical operators**. In the list above, we have added a line break between the three further 'sub-categories' of operator. \n",
        "\n",
        "The *first six* operators in the list, constitute **comparison operators** (like `==`, `<`, `>` and `!=`) which are used to compare two values and return a *Boolean* result (`True` or `False`). \n",
        "\n",
        "The *second group of three* operators in the list are termed **logical operators** (`and`, `or`, `not`) and these are used to *combine* or *invert* those Boolean results. \n",
        "\n",
        "And lastly - on its own at the *bottom of the list*, is the **bitwise complement operator** `~`, which looks similar because it also flips values, but it works at the binary level of integers, inverting every bit rather than simply switching `True` and `False`. It is therefore *not* a logical operator in the strictest sense.\n",
        "\n",
        "For emphasis: while we are superficially categorising all of the above under the heading \"logical operators\", technically speaking, they belong to different categories. Common and fundamental to all, these operators are **asking questions** and working with truth values. It is therefore common and useful to group them together under the umbrella of logical operations when first learning Python."
      ]
    },
    {
      "cell_type": "markdown",
      "id": "41525b7a",
      "metadata": {},
      "source": [
        "## What is a conditional statement?"
      ]
    },
    {
      "cell_type": "markdown",
      "id": "f3825de4",
      "metadata": {},
      "source": [
        "One of the most useful aspects of programming, is the ability to execute an action in response to the presence or absence of a condition. For example, if the time is 2:00, and the sun is in the sky, append 'PM' to give 2:00 PM. If it's dark and the sun is down, append 'PM'. This is a lexical way of expressing a condition, and an action that depends on whether a condition is satisified, or not.\n",
        "\n",
        "Aside from some of the logical operators we covered earlier, Python provides three syntaxes that allow us to express these conditions, and execute code in response to whether or not they are satisfied. These are `if`, `elif` and `else`. In summary:\n",
        "\n",
        "- `if` – checks a condition, and runs a block of code only **if*** the condition returns the boolean `True`.\n",
        "- `elif` – shorthand for 'else if', this lets you test another condition *if* the previous condition in your code returns the boolean `False`.\n",
        "- `else` – usually the last statement in a block of conditionals, `else` provides a block of code to run when **none** of the previous conditions return the boolean `True`."
      ]
    },
    {
      "cell_type": "markdown",
      "id": "03f4273d",
      "metadata": {},
      "source": [
        "KEY TERMS BOX\n",
        "\n",
        "**Conditional statements**: A pythonic statement that dictates when to execute a block of code."
      ]
    },
    {
      "cell_type": "markdown",
      "id": "8c788a59",
      "metadata": {},
      "source": [
        "### Conditional statement type: `if`"
      ]
    },
    {
      "cell_type": "markdown",
      "id": "0d214839",
      "metadata": {},
      "source": [
        "For the first time in the course so far, we will also see the importance of **indentations** in Python. Let's start with the Python keyword `if` as the first illustrative example. Its syntax specifies that `if` is followed by a condition, and then a colon `:`. If you hit return, you will notice that your cursor will automatically be tabbed inwards by a one-tab or four-space indentation. This indentation defines the **scope** of the conditional statement's executable code. For example, in the example below - if the patient's temperature is above 37.5ºC, the print statement will run. If the condition is not satisfied, the code will not execute:"
      ]
    },
    {
      "cell_type": "code",
      "execution_count": null,
      "id": "d84b4cf1",
      "metadata": {},
      "outputs": [
        {
          "name": "stdout",
          "output_type": "stream",
          "text": [
            "The patient is hyperthermic has a fever, with a temperature of 38.0ºC.\n"
          ]
        }
      ],
      "source": [
        "# The 'float' class is used to always convert temperature values to a decimal.\n",
        "temperature = 38\n",
        "\n",
        "if 37.5 < temperature <= 41.0:\n",
        "    print(f\"The patient is hyperthermic has a fever, with a temperature of {temperature}ºC.\")"
      ]
    },
    {
      "cell_type": "markdown",
      "id": "ea3f2a96",
      "metadata": {},
      "source": [
        "If the lines that follow the conditional statement are *not* indented by a single indentation (or four spaces), the code will fall *out* of the scope of the conditional, and will be executed, irrespective of the condition being met. \n",
        "\n",
        "In the code cell below, the temperature is fixed at 35, which does not meet the condition of our `if` statement; but still, our print statement at the bottom of the code block will run, regardless:"
      ]
    },
    {
      "cell_type": "code",
      "execution_count": null,
      "id": "ffa6cafd",
      "metadata": {},
      "outputs": [
        {
          "name": "stdout",
          "output_type": "stream",
          "text": [
            "Regardless of the condition, this line will always print.\n"
          ]
        }
      ],
      "source": [
        "temperature = 35.0\n",
        "\n",
        "if 37.5 < temperature <= 41.0:\n",
        "    print(f\"The patient is hyperthermic and has a fever, with a temperature of {temperature}ºC.\")\n",
        "\n",
        "print(\"Regardless of the condition, this line will always print.\") # This line isn't indented."
      ]
    },
    {
      "cell_type": "markdown",
      "id": "28fcfbdf",
      "metadata": {},
      "source": [
        "KEY TERMS BOX\n",
        "\n",
        "**Coding indentations**: Visual indentations in the written code. Typically indicating a defined block of code, such as after a conditional statement or when defining a function."
      ]
    },
    {
      "cell_type": "markdown",
      "id": "5ad5dc8d",
      "metadata": {},
      "source": [
        "### Conditional statement type: `elif`"
      ]
    },
    {
      "cell_type": "markdown",
      "id": "681c62ff",
      "metadata": {},
      "source": [
        "Following on with this logic in mind, we can look at the `elif` conditional (note this is named as shorthand for 'else if'). These always follow an `if` conditional, and explicitly state that if the condition of the `if` isn't met, then proceed to the next `elif` statement. `elif` follows the same syntactical rules as `if`, in that the `elif` keyword is followed by both a condition and a colon `:`, with newline characters automatically indenting a single tab-space in, to specify the code within its scope. This code is then executed if the condition of the `elif` statement is met.\n",
        "\n",
        "Let's develop the above example to illustrate this. For ease, we will predefine the temperature in the code, and not use the `input()` function."
      ]
    },
    {
      "cell_type": "code",
      "execution_count": null,
      "id": "f3e01e1f",
      "metadata": {},
      "outputs": [
        {
          "name": "stdout",
          "output_type": "stream",
          "text": [
            "The patient is mildly hypothermic, with a temperature of 35.5ºC.\n"
          ]
        }
      ],
      "source": [
        "temperature = 35.5\n",
        "\n",
        "if 37.5 < temperature <= 41.0:\n",
        "    print(f\"The patient is hyperthermic and has a fever, with a temperature of {temperature}ºC.\")\n",
        "\n",
        "elif 35.0 <= temperature < 36.0:\n",
        "    print(f\"The patient is mildly hypothermic, with a temperature of {temperature}ºC.\")"
      ]
    },
    {
      "cell_type": "markdown",
      "id": "91c0478b",
      "metadata": {},
      "source": [
        "REMEMBER BOX\n",
        "\n",
        "Note, when you use return to move the cursor to a new line, when you're inside a conditional statement, it will always return an indented new line (i.e. within the scope of the conditional statement you're already in). In order to specify an `elif` statement, you need to hit the backspace key, to make sure your `elif` conditional statement begins on the *same indentation level* as the if conditional, above it. This way, the Python interpreter knows that the `elif` is not inside the scope of the top `if` statement, and thus will run only if the condition is *not* met, rather than if it *is* met."
      ]
    },
    {
      "cell_type": "markdown",
      "id": "919ea461",
      "metadata": {},
      "source": [
        "The condition of the above `elif` statement means that the print statement will print, only if the temperature is greater than or equal to 35.5 *and* less than 36.0.\n",
        "\n",
        "We can continue, and add another two `elif` statements to define normal body temperature and severe hypothermia, as follows. The `input` function has been reintroduced, so that you can easily change the temperature, to see which condition you satisfy, and thus, which statement is printed:"
      ]
    },
    {
      "cell_type": "code",
      "execution_count": null,
      "id": "9b37af48",
      "metadata": {},
      "outputs": [
        {
          "name": "stdout",
          "output_type": "stream",
          "text": [
            "The patient is severely hypothermic, with a temperature of 34.0ºC.\n"
          ]
        }
      ],
      "source": [
        "# Change the temperature to test the conditional statements\n",
        "\n",
        "temperature = 38.0\n",
        "\n",
        "# Fever:\n",
        "if 37.5 < temperature <= 41.0:\n",
        "    print(f\"The patient is hyperthermic and has a fever, with a temperature of {temperature}ºC.\")\n",
        "\n",
        "# Mild hypothermia:\n",
        "elif 35.0 <= temperature < 36.0:\n",
        "    print(f\"The patient is mildly hypothermic, with a temperature of {temperature}ºC.\")\n",
        "\n",
        "# Severe hypothermia:\n",
        "elif 28.0 < temperature < 35.0:\n",
        "    print(f\"The patient is severely hypothermic, with a temperature of {temperature}ºC.\")\n",
        "\n",
        "# Normal body temperature:\n",
        "elif 36.0 <= temperature <= 37.5:\n",
        "    print(f\"The patient’s temperature is normal, with a temperature of {temperature}ºC.\")"
      ]
    },
    {
      "cell_type": "markdown",
      "id": "07627309",
      "metadata": {},
      "source": [
        "### Conditional statement type: `else`"
      ]
    },
    {
      "cell_type": "markdown",
      "id": "61889c73",
      "metadata": {},
      "source": [
        "The final type of conditional statement is `else`. This specifies that if all conditions specified in your code are *not* met then - irrespective of the condition - this block of code will always execute. Think of it as a final 'catch-all' statement. So long as there is an `else` statement in your code, something will always execute.\n",
        "\n",
        "We can build on our example, and add in an `else` statement: this specifies that all values not within the ranges specified by *any* of the conditional statements in our code, will tell our Python interpreter to execute the `else` statement's code. "
      ]
    },
    {
      "cell_type": "code",
      "execution_count": null,
      "id": "1f26131c",
      "metadata": {},
      "outputs": [
        {
          "name": "stdout",
          "output_type": "stream",
          "text": [
            "The patient’s temperature is at a critical level of 42.0ºC: potentially fatal.\n"
          ]
        }
      ],
      "source": [
        "# Change the temperature to test the conditional statements\n",
        "\n",
        "temperature = 42.0\n",
        "\n",
        "# Fever:\n",
        "if 37.5 < temperature <= 41.0:\n",
        "    print(f\"The patient is hyperthermic and has a fever, with a temperature of {temperature}ºC.\")\n",
        "\n",
        "# Mild hypothermia:\n",
        "elif 35.0 <= temperature < 36.0:\n",
        "    print(f\"The patient is mildly hypothermic, with a temperature of {temperature}ºC.\")\n",
        "\n",
        "# Severe hypothermia:\n",
        "elif 28.0 < temperature < 35.0:\n",
        "    print(f\"The patient is severely hypothermic, with a temperature of {temperature}ºC.\")\n",
        "\n",
        "# Normal body temperature:\n",
        "elif 36.0 <= temperature <= 37.5:\n",
        "    print(f\"The patient’s temperature is normal, with a temperature of {temperature}ºC.\")\n",
        "\n",
        "else:\n",
        "    print(f\"The patient’s temperature is at a critical level of {temperature}ºC: potentially fatal.\")"
      ]
    },
    {
      "cell_type": "code",
      "execution_count": null,
      "id": "71caee69",
      "metadata": {},
      "outputs": [],
      "source": [
        "# Have a go creating your own if, elif statements"
      ]
    },
    {
      "cell_type": "markdown",
      "id": "0b7178d4",
      "metadata": {},
      "source": [
        "KEY TERMS BOX\n",
        "\n",
        "**if**: Executes a block of code only when a specified condition evaluates to True.\n",
        "\n",
        "**elif**: Provides an alternative condition to check if the previous if or *elif* condition was False.\n",
        "\n",
        "**else**: Executes a block of code when all preceding *if* and *elif* conditions evaluate to False."
      ]
    },
    {
      "cell_type": "markdown",
      "id": "f02fa6aa",
      "metadata": {},
      "source": [
        "## Summary"
      ]
    },
    {
      "cell_type": "markdown",
      "id": "09e9a783",
      "metadata": {},
      "source": [
        "In this lesson, we explored how Python makes decisions using **logical operations** and **conditional statements**. We began by learning how **comparison operators** (`==`, `!=`, `<`, `>`, `<=`, `>=`) allow us to compare values and return Boolean results of either `True` or `False`. We then examined how **logical operators** `and`, `or` and `not` enable the *combination* or *negation* of multiple conditions, allowing for more complex decision-making. We then introduced Python’s **conditional statements** — `if`, `elif` and `else` — which allow the program to choose between different paths of execution depending on whether conditions are met. Along the way, we emphasised the importance of **colons** and **indentation** as syntactical rules, both of which define the structure and scope of conditionals in Python. By the end of this lesson, we saw how these tools allow Python programs to respond dynamically to data, modelling real-world decision processes with clarity and precision."
      ]
    }
  ],
  "metadata": {
    "kernelspec": {
      "display_name": "base",
      "language": "python",
      "name": "python3"
    },
    "language_info": {
      "codemirror_mode": {
        "name": "ipython",
        "version": 3
      },
      "file_extension": ".py",
      "mimetype": "text/x-python",
      "name": "python",
      "nbconvert_exporter": "python",
      "pygments_lexer": "ipython3",
      "version": "3.12.7"
    }
  },
  "nbformat": 4,
  "nbformat_minor": 5
}