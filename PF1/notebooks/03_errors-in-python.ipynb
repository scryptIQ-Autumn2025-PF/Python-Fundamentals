{
  "cells": [
    {
      "cell_type": "markdown",
      "id": "cdadf60e",
      "metadata": {},
      "source": [
        "# Errors in Python"
      ]
    },
    {
      "cell_type": "markdown",
      "id": "02464178",
      "metadata": {},
      "source": [
        "## Introduction"
      ]
    },
    {
      "cell_type": "markdown",
      "id": "09218f50",
      "metadata": {},
      "source": [
        "**Learning Objectives**\n",
        "- What is an error?\n",
        "- To understand different types of errors\n",
        "- Identifying common errors\n",
        "- How to handle errors programmatically"
      ]
    },
    {
      "cell_type": "markdown",
      "id": "98aee762",
      "metadata": {},
      "source": [
        "**What are errors in Python?** As with many programming languages, Python has built-in error reporting: a system whereby problems that stop a program from running as intended, are reported to the user, on the console. Errors occur when the Python interpreter encounters a line or syntax that it cannot understand, or cannot execute. \n",
        "\n",
        "These errors fall into two broad categories: \n",
        "\n",
        "- **syntax errors** - these happen when the rules of the Python language are broken (such as missing colons or brackets). \n",
        "- **runtime errors** - these occur while a program is running, when otherwise valid code fails during its execution. \n",
        "\n",
        "When an error occurs, Python generates an error message called a **traceback**. These tracebacks explain what went wrong to cause the error, and where in the code the problem occurred. Learning to read and understand these error messages is of paramount importance. When writing code, and testing its execution, these errors help to quickly pinpoint where the problems occur, allowing us to repair or **debug** the code with ease, and precision. Thus, they build into us as programmers, training sharper problem-solving strategies within us that lead us to writing more robust code."
      ]
    },
    {
      "cell_type": "markdown",
      "id": "361a5642",
      "metadata": {},
      "source": [
        "## Syntax errors"
      ]
    },
    {
      "cell_type": "markdown",
      "id": "757ae5ea",
      "metadata": {},
      "source": [
        "We have already defined these as errors that arise when Python’s “grammar” or language rules have been broken. They prevent the program from even starting to run, because the interpreter cannot make sense of the code structure. Syntax errors are often the first type of error that new programmers encounter, and the good news is that they are usually easy to spot once you know what to look for.  \n",
        "\n",
        "Common examples of syntax errors include:  \n",
        "\n",
        "- **Missing or unmatched quotes** – forgetting to close a string with the same quotation mark you opened it with  \n",
        "- **Missing or unmatched parentheses** – leaving out a bracket, or using one too many  \n",
        "- **Missing colons** – forgetting the colon `:` that must follow an `if`, `elif`, `else` conditional (as we looked at, previously) or later on in the course, a `for` and `while` loop  \n",
        "- **Incorrect indentation** – not lining up code blocks with the correct number of spaces or tabs  \n",
        "- **Misspelled keywords** – for instance, typing `pritn` instead of `print`, or `esle` instead of `else`  \n",
        "- **Illegal characters** – including symbols or characters that Python does not recognise\n",
        "\n",
        "When Python encounters one of these problems, it produces a `SyntaxError` message and highlights the part of the code it cannot interpret. The caret `^` symbol in an error message often *points to the exact spot* where the interpreter got confused. It may not always be the true location of the mistake, but it is usually close by. Developing the habit of carefully reading error messages and checking for these common issues is the first step towards becoming fluent in **debugging** - a term used to describe spotting errors or 'bugs' in code that impede its execution.\n",
        "\n",
        "We will generate each of the different types of `SyntaxError` in the cells, below:"
      ]
    },
    {
      "cell_type": "code",
      "execution_count": null,
      "id": "bef9cf4b",
      "metadata": {},
      "outputs": [
        {
          "ename": "SyntaxError",
          "evalue": "unterminated string literal (detected at line 3) (1671940907.py, line 3)",
          "output_type": "error",
          "traceback": [
            "  \u001b[36mCell\u001b[39m\u001b[36m \u001b[39m\u001b[32mIn[1]\u001b[39m\u001b[32m, line 3\u001b[39m\n\u001b[31m    \u001b[39m\u001b[31mprint(\"Gene symbol: BRCA1)\u001b[39m\n          ^\n\u001b[31mSyntaxError\u001b[39m\u001b[31m:\u001b[39m unterminated string literal (detected at line 3)\n"
          ]
        }
      ],
      "source": [
        "# Missing quotes around a string:\n",
        "\n",
        "print(\"Gene symbol: BRCA1)"
      ]
    },
    {
      "cell_type": "code",
      "execution_count": null,
      "id": "b3e55169",
      "metadata": {},
      "outputs": [
        {
          "ename": "SyntaxError",
          "evalue": "incomplete input (3867836346.py, line 3)",
          "output_type": "error",
          "traceback": [
            "  \u001b[36mCell\u001b[39m\u001b[36m \u001b[39m\u001b[32mIn[2]\u001b[39m\u001b[32m, line 3\u001b[39m\n\u001b[31m    \u001b[39m\u001b[31mprint(\"Heart rate (bpm):\", heart_rate\u001b[39m\n                                         ^\n\u001b[31mSyntaxError\u001b[39m\u001b[31m:\u001b[39m incomplete input\n"
          ]
        }
      ],
      "source": [
        "# Unmatched parentheses around a function's arguments:\n",
        "\n",
        "print(\"Heart rate (bpm):\", heart_rate"
      ]
    },
    {
      "cell_type": "code",
      "execution_count": null,
      "id": "7d241402",
      "metadata": {},
      "outputs": [
        {
          "ename": "SyntaxError",
          "evalue": "expected ':' (2854861766.py, line 5)",
          "output_type": "error",
          "traceback": [
            "  \u001b[36mCell\u001b[39m\u001b[36m \u001b[39m\u001b[32mIn[3]\u001b[39m\u001b[32m, line 5\u001b[39m\n\u001b[31m    \u001b[39m\u001b[31mif temperature > 37.5\u001b[39m\n                         ^\n\u001b[31mSyntaxError\u001b[39m\u001b[31m:\u001b[39m expected ':'\n"
          ]
        }
      ],
      "source": [
        "# Missing colon in a conditional statement:\n",
        "\n",
        "temperature = 38.2\n",
        "\n",
        "if temperature > 37.5\n",
        "    print(\"Fever detected\")"
      ]
    },
    {
      "cell_type": "code",
      "execution_count": null,
      "id": "a8b5c7a1",
      "metadata": {},
      "outputs": [
        {
          "ename": "IndentationError",
          "evalue": "expected an indented block after 'if' statement on line 5 (1463955763.py, line 6)",
          "output_type": "error",
          "traceback": [
            "  \u001b[36mCell\u001b[39m\u001b[36m \u001b[39m\u001b[32mIn[4]\u001b[39m\u001b[32m, line 6\u001b[39m\n\u001b[31m    \u001b[39m\u001b[31mprint(\"Leukocytosis\")  # This line should be indented (one tab, or four spaces)\u001b[39m\n    ^\n\u001b[31mIndentationError\u001b[39m\u001b[31m:\u001b[39m expected an indented block after 'if' statement on line 5\n"
          ]
        }
      ],
      "source": [
        "# Missing indentation in a conditional statement:\n",
        "\n",
        "wbc = 12000\n",
        "\n",
        "if wbc > 11000:\n",
        "print(\"Leukocytosis\")  # This line should be indented (one tab, or four spaces)"
      ]
    },
    {
      "cell_type": "code",
      "execution_count": null,
      "id": "1d48a28a",
      "metadata": {},
      "outputs": [
        {
          "ename": "SyntaxError",
          "evalue": "invalid syntax (1909565665.py, line 8)",
          "output_type": "error",
          "traceback": [
            "  \u001b[36mCell\u001b[39m\u001b[36m \u001b[39m\u001b[32mIn[5]\u001b[39m\u001b[32m, line 8\u001b[39m\n\u001b[31m    \u001b[39m\u001b[31mesle:                       # In this line, 'else' is misspelled.\u001b[39m\n                                ^\n\u001b[31mSyntaxError\u001b[39m\u001b[31m:\u001b[39m invalid syntax\n"
          ]
        }
      ],
      "source": [
        "# Misspelling:\n",
        "\n",
        "bmi = 31.4\n",
        "\n",
        "if bmi >= 30:\n",
        "    print(\"Obese.\")\n",
        "\n",
        "esle:                       # In this line, 'else' is misspelled.\n",
        "    print(\"Not obese.\")"
      ]
    },
    {
      "cell_type": "code",
      "execution_count": null,
      "id": "4e17d988",
      "metadata": {},
      "outputs": [
        {
          "ename": "SyntaxError",
          "evalue": "cannot assign to expression here. Maybe you meant '==' instead of '='? (1344748248.py, line 3)",
          "output_type": "error",
          "traceback": [
            "  \u001b[36mCell\u001b[39m\u001b[36m \u001b[39m\u001b[32mIn[6]\u001b[39m\u001b[32m, line 3\u001b[39m\n\u001b[31m    \u001b[39m\u001b[31mglucose@level = 5.6   # The '@' character is not allowed in a variable name\u001b[39m\n    ^\n\u001b[31mSyntaxError\u001b[39m\u001b[31m:\u001b[39m cannot assign to expression here. Maybe you meant '==' instead of '='?\n"
          ]
        }
      ],
      "source": [
        "# Illegal characters:\n",
        "\n",
        "glucose@level = 5.6   # The '@' character is not allowed in a variable name"
      ]
    },
    {
      "cell_type": "markdown",
      "id": "2261fe80",
      "metadata": {},
      "source": [
        "Upon reading the error messages, among the many things you will have noticed, is how informative they are. Not only do they diagnose the error and its location in your code, but they often also offer suggested fixes."
      ]
    },
    {
      "cell_type": "markdown",
      "id": "b49ab53d",
      "metadata": {},
      "source": [
        "NOTE BOX\n",
        "\n",
        "For code with multiple errors, the Python interpreter will cease immediately upon hitting the **first error**. Thus, you will only get error reporting on subsequent errors, once the first error has been fixed. This leads to the continuous struggle of a programmer where fixing one error just brings you more."
      ]
    },
    {
      "cell_type": "markdown",
      "id": "502605c5",
      "metadata": {},
      "source": [
        "## Runtime errors"
      ]
    },
    {
      "cell_type": "markdown",
      "id": "09b3fd20",
      "metadata": {},
      "source": [
        "Unlike syntax errors, which prevent completley prevent a program from running, **runtime errors** occur *while* the program is already running. Thus, a `RuntimeError` indicates that the code is written in a way that Python can understand *syntactically*, but when it tries to execute a particular line, something goes wrong along the way. Runtime errors are also referred to as **exceptions**, as they represent when the program's normal flow is interrupted, in some way. They are among the most common errors you will encounter as you gain experience, and your programs build both in terms of complexity and interactivity.  \n",
        "\n",
        "A key feature of runtime errors is that they stop your program only *at the point where the problem occurs*. Everything *before* the error will have run successfully, but nothing after it will execute until the error is resolved. \n",
        "\n",
        "The error message provides a *traceback* that explains what type of error occurred, together with the exact line number where the problem was triggered. A traceback is a unique type of error message in Python, where a report of all the steps the interpreter ran successfully up until the point of the error, are listed out. If and where applicable, this traceback will tell you the file name, line number and the type of error which, again, informs the user as copiously as possible, so that debugging is made easy.\n",
        "\n",
        "Common types of runtime errors include:  \n",
        "\n",
        "- **`NameError`** – using a variable that has not been defined  \n",
        "- **`TypeError`** – performing an operation on the wrong data type (e.g. `\"DNA\" + 5`)  \n",
        "- **`ValueError`** – passing an invalid value to a function (e.g. `int(\"gene\")`)  \n",
        "- **`ZeroDivisionError`** – attempting to divide a number by zero  \n",
        "- **`IndexError`** – trying to access a position outside the bounds of a list or string  \n",
        "- **`KeyError`** – looking up a dictionary key that does not exist  \n",
        "- **`ImportError` / `ModuleNotFoundError`** – when Python cannot locate the module you are trying to import  \n",
        "\n",
        "By learning to read and interpret these error messages, you can quickly trace back to the source of the problem and decide how best to correct it. \n",
        "\n",
        "In the cells below, let's generate some runtime errors, and see a few of these examples, in action."
      ]
    },
    {
      "cell_type": "code",
      "execution_count": null,
      "id": "1be95a04",
      "metadata": {},
      "outputs": [
        {
          "ename": "NameError",
          "evalue": "name 'gene_sequence' is not defined",
          "output_type": "error",
          "traceback": [
            "\u001b[31m---------------------------------------------------------------------------\u001b[39m",
            "\u001b[31mNameError\u001b[39m                                 Traceback (most recent call last)",
            "\u001b[36mCell\u001b[39m\u001b[36m \u001b[39m\u001b[32mIn[7]\u001b[39m\u001b[32m, line 5\u001b[39m\n\u001b[32m      1\u001b[39m \u001b[38;5;66;03m# EDIT OUTPUT\u001b[39;00m\n\u001b[32m      2\u001b[39m \n\u001b[32m      3\u001b[39m \u001b[38;5;66;03m# NameError – referring to a variable that has not been defined:\u001b[39;00m\n\u001b[32m----> \u001b[39m\u001b[32m5\u001b[39m \u001b[38;5;28mprint\u001b[39m(\u001b[43mgene_sequence\u001b[49m)\n",
            "\u001b[31mNameError\u001b[39m: name 'gene_sequence' is not defined"
          ]
        }
      ],
      "source": [
        "# NameError – referring to a variable that has not been defined:\n",
        "\n",
        "print(gene_sequence)"
      ]
    },
    {
      "cell_type": "code",
      "execution_count": null,
      "id": "d19eed98",
      "metadata": {},
      "outputs": [
        {
          "ename": "TypeError",
          "evalue": "can only concatenate str (not \"int\") to str",
          "output_type": "error",
          "traceback": [
            "\u001b[31m---------------------------------------------------------------------------\u001b[39m",
            "\u001b[31mTypeError\u001b[39m                                 Traceback (most recent call last)",
            "\u001b[36mCell\u001b[39m\u001b[36m \u001b[39m\u001b[32mIn[8]\u001b[39m\u001b[32m, line 7\u001b[39m\n\u001b[32m      1\u001b[39m \u001b[38;5;66;03m# EDIT OUTPUT\u001b[39;00m\n\u001b[32m      2\u001b[39m \n\u001b[32m      3\u001b[39m \u001b[38;5;66;03m# TypeError – performing an operation on the wrong data type:\u001b[39;00m\n\u001b[32m      5\u001b[39m dna = \u001b[33m\"\u001b[39m\u001b[33mATCG\u001b[39m\u001b[33m\"\u001b[39m\n\u001b[32m----> \u001b[39m\u001b[32m7\u001b[39m \u001b[38;5;28mprint\u001b[39m(\u001b[43mdna\u001b[49m\u001b[43m \u001b[49m\u001b[43m+\u001b[49m\u001b[43m \u001b[49m\u001b[32;43m5\u001b[39;49m)   \u001b[38;5;66;03m# Adding or concatenating a string + integer is not valid.\u001b[39;00m\n",
            "\u001b[31mTypeError\u001b[39m: can only concatenate str (not \"int\") to str"
          ]
        }
      ],
      "source": [
        "# TypeError – performing an operation on the wrong data type:\n",
        "\n",
        "dna = \"ATCG\"\n",
        "\n",
        "print(dna + 5)   # Adding or concatenating a string + integer is not valid."
      ]
    },
    {
      "cell_type": "code",
      "execution_count": null,
      "id": "ed8104aa",
      "metadata": {},
      "outputs": [
        {
          "ename": "ValueError",
          "evalue": "invalid literal for int() with base 10: 'adenine'",
          "output_type": "error",
          "traceback": [
            "\u001b[31m---------------------------------------------------------------------------\u001b[39m",
            "\u001b[31mValueError\u001b[39m                                Traceback (most recent call last)",
            "\u001b[36mCell\u001b[39m\u001b[36m \u001b[39m\u001b[32mIn[9]\u001b[39m\u001b[32m, line 5\u001b[39m\n\u001b[32m      1\u001b[39m \u001b[38;5;66;03m# EDIT OUTPUT\u001b[39;00m\n\u001b[32m      2\u001b[39m \n\u001b[32m      3\u001b[39m \u001b[38;5;66;03m# ValueError – passing an invalid value to a function:\u001b[39;00m\n\u001b[32m----> \u001b[39m\u001b[32m5\u001b[39m \u001b[38;5;28;43mint\u001b[39;49m\u001b[43m(\u001b[49m\u001b[33;43m\"\u001b[39;49m\u001b[33;43madenine\u001b[39;49m\u001b[33;43m\"\u001b[39;49m\u001b[43m)\u001b[49m   \u001b[38;5;66;03m# Cannot convert letters into an integer.\u001b[39;00m\n",
            "\u001b[31mValueError\u001b[39m: invalid literal for int() with base 10: 'adenine'"
          ]
        }
      ],
      "source": [
        "# ValueError – passing an invalid value to a function:\n",
        "\n",
        "int(\"adenine\")   # Cannot convert letters into an integer."
      ]
    },
    {
      "cell_type": "code",
      "execution_count": null,
      "id": "481c7313",
      "metadata": {},
      "outputs": [
        {
          "ename": "ZeroDivisionError",
          "evalue": "division by zero",
          "output_type": "error",
          "traceback": [
            "\u001b[31m---------------------------------------------------------------------------\u001b[39m",
            "\u001b[31mZeroDivisionError\u001b[39m                         Traceback (most recent call last)",
            "\u001b[36mCell\u001b[39m\u001b[36m \u001b[39m\u001b[32mIn[10]\u001b[39m\u001b[32m, line 8\u001b[39m\n\u001b[32m      5\u001b[39m cell_count = \u001b[32m1000\u001b[39m\n\u001b[32m      6\u001b[39m replicates = \u001b[32m0\u001b[39m\n\u001b[32m----> \u001b[39m\u001b[32m8\u001b[39m average = \u001b[43mcell_count\u001b[49m\u001b[43m \u001b[49m\u001b[43m/\u001b[49m\u001b[43m \u001b[49m\u001b[43mreplicates\u001b[49m\n",
            "\u001b[31mZeroDivisionError\u001b[39m: division by zero"
          ]
        }
      ],
      "source": [
        "# ZeroDivisionError – attempting to divide a number by zero:\n",
        "\n",
        "cell_count = 1000\n",
        "replicates = 0\n",
        "\n",
        "average = cell_count / replicates"
      ]
    },
    {
      "cell_type": "markdown",
      "id": "ee88e478",
      "metadata": {},
      "source": [
        "REMEMBER BOX\n",
        "\n",
        "The last three types of `RuntimeError` listed in this lesson, go beyond the lesson's scope. That is - they pertain to concepts and structures in Python that we have not covered, yet. For completeness, they are listed here, as they are important types of runtime errors, that you may encounter, further on in your Python learning. "
      ]
    },
    {
      "cell_type": "markdown",
      "id": "4e193b58",
      "metadata": {},
      "source": [
        "### Errors you'll see in the future"
      ]
    },
    {
      "cell_type": "markdown",
      "id": "e8fcd5c1",
      "metadata": {},
      "source": [
        "The errors you will see below are specific to some data structures in Python that we will be exploring in more detail in the next modules **PF2** and **PF3**. We'll give a brief description here for you to understand the error, however there will be more information in the future to understand the terminology properly."
      ]
    },
    {
      "cell_type": "markdown",
      "id": "c861591d",
      "metadata": {},
      "source": [
        "Below is a **list** which is a type of data structure that can store multiple 'elements' or items (covered in **PF2**), which can be accessed individually using a technique or system called **indexing**. \n",
        "\n",
        "In the case where an index is given that is greater than the actual number of elements in the list, you get a specific error known as an `IndexError`, as demonstrated, below:"
      ]
    },
    {
      "cell_type": "code",
      "execution_count": null,
      "id": "1a914be1",
      "metadata": {},
      "outputs": [
        {
          "ename": "IndexError",
          "evalue": "list index out of range",
          "output_type": "error",
          "traceback": [
            "\u001b[31m---------------------------------------------------------------------------\u001b[39m",
            "\u001b[31mIndexError\u001b[39m                                Traceback (most recent call last)",
            "\u001b[36mCell\u001b[39m\u001b[36m \u001b[39m\u001b[32mIn[11]\u001b[39m\u001b[32m, line 7\u001b[39m\n\u001b[32m      1\u001b[39m \u001b[38;5;66;03m# EDIT OUTPUT\u001b[39;00m\n\u001b[32m      2\u001b[39m \n\u001b[32m      3\u001b[39m \u001b[38;5;66;03m# IndexError – trying to access a position outside the bounds of a list or string:\u001b[39;00m\n\u001b[32m      5\u001b[39m genes = [\u001b[33m\"\u001b[39m\u001b[33mBRCA1\u001b[39m\u001b[33m\"\u001b[39m, \u001b[33m\"\u001b[39m\u001b[33mTP53\u001b[39m\u001b[33m\"\u001b[39m, \u001b[33m\"\u001b[39m\u001b[33mEGFR\u001b[39m\u001b[33m\"\u001b[39m]\n\u001b[32m----> \u001b[39m\u001b[32m7\u001b[39m \u001b[38;5;28mprint\u001b[39m(\u001b[43mgenes\u001b[49m\u001b[43m[\u001b[49m\u001b[32;43m5\u001b[39;49m\u001b[43m]\u001b[49m)   \u001b[38;5;66;03m# The\u001b[39;00m\n",
            "\u001b[31mIndexError\u001b[39m: list index out of range"
          ]
        }
      ],
      "source": [
        "# IndexError – trying to access a position outside the bounds of a list or string:\n",
        "\n",
        "genes = [\"BRCA1\", \"TP53\", \"EGFR\"]\n",
        "\n",
        "print(genes[5])   # The"
      ]
    },
    {
      "cell_type": "markdown",
      "id": "0e1d24fb",
      "metadata": {},
      "source": [
        "Similarly, this error is attributed to another type of associative data structure called a **dictionary** (covered in **PF3**), which contains multiple key:value pairs. A value is accessed by using its associated key, and if a key is used that is not in the dictionary, you get a specific `KeyError` as shown, below\":"
      ]
    },
    {
      "cell_type": "code",
      "execution_count": null,
      "id": "4e8b2bde",
      "metadata": {},
      "outputs": [
        {
          "ename": "KeyError",
          "evalue": "'MYC'",
          "output_type": "error",
          "traceback": [
            "\u001b[31m---------------------------------------------------------------------------\u001b[39m",
            "\u001b[31mKeyError\u001b[39m                                  Traceback (most recent call last)",
            "\u001b[36mCell\u001b[39m\u001b[36m \u001b[39m\u001b[32mIn[12]\u001b[39m\u001b[32m, line 7\u001b[39m\n\u001b[32m      1\u001b[39m \u001b[38;5;66;03m# EDIT OUTPUT\u001b[39;00m\n\u001b[32m      2\u001b[39m \n\u001b[32m      3\u001b[39m \u001b[38;5;66;03m# KeyError – looking up a dictionary key that does not exist\u001b[39;00m\n\u001b[32m      5\u001b[39m expression = {\u001b[33m\"\u001b[39m\u001b[33mBRCA1\u001b[39m\u001b[33m\"\u001b[39m: \u001b[32m2.5\u001b[39m, \u001b[33m\"\u001b[39m\u001b[33mTP53\u001b[39m\u001b[33m\"\u001b[39m: \u001b[32m4.1\u001b[39m}\n\u001b[32m----> \u001b[39m\u001b[32m7\u001b[39m \u001b[38;5;28mprint\u001b[39m(\u001b[43mexpression\u001b[49m\u001b[43m[\u001b[49m\u001b[33;43m\"\u001b[39;49m\u001b[33;43mMYC\u001b[39;49m\u001b[33;43m\"\u001b[39;49m\u001b[43m]\u001b[49m)   \u001b[38;5;66;03m# \"MYC\" key not in dictionary\u001b[39;00m\n",
            "\u001b[31mKeyError\u001b[39m: 'MYC'"
          ]
        }
      ],
      "source": [
        "# KeyError – looking up a dictionary key that does not exist\n",
        "\n",
        "expression = {\"BRCA1\": 2.5, \"TP53\": 4.1}\n",
        "\n",
        "print(expression[\"MYC\"])   # \"MYC\" key not in dictionary"
      ]
    },
    {
      "cell_type": "markdown",
      "id": "2c8c070b",
      "metadata": {},
      "source": [
        "Lastly, in Python you can import modules or packages of code to expand Python (covered in **PF3**). In short, these are authored collections of Python functions, methods and attributes that allow users to perform specific functions, not included in Python, by default. They, therefore, often have to be explicitly imported and installed to be implemented in your code. In the case that they haven't been, Python will throw a `ModuleNotFoundError`, as demonstrated, below:"
      ]
    },
    {
      "cell_type": "code",
      "execution_count": null,
      "id": "463d7c06",
      "metadata": {},
      "outputs": [
        {
          "ename": "ModuleNotFoundError",
          "evalue": "No module named 'genomics_toolkit'",
          "output_type": "error",
          "traceback": [
            "\u001b[31m---------------------------------------------------------------------------\u001b[39m",
            "\u001b[31mModuleNotFoundError\u001b[39m                       Traceback (most recent call last)",
            "\u001b[36mCell\u001b[39m\u001b[36m \u001b[39m\u001b[32mIn[13]\u001b[39m\u001b[32m, line 4\u001b[39m\n\u001b[32m      1\u001b[39m \u001b[38;5;66;03m# EDIT OUTPUT\u001b[39;00m\n\u001b[32m      2\u001b[39m \n\u001b[32m      3\u001b[39m \u001b[38;5;66;03m# ImportError / ModuleNotFoundError – module cannot be found\u001b[39;00m\n\u001b[32m----> \u001b[39m\u001b[32m4\u001b[39m \u001b[38;5;28;01mimport\u001b[39;00m\u001b[38;5;250m \u001b[39m\u001b[34;01mgenomics_toolkit\u001b[39;00m   \u001b[38;5;66;03m# not a real or installed module\u001b[39;00m\n",
            "\u001b[31mModuleNotFoundError\u001b[39m: No module named 'genomics_toolkit'"
          ]
        }
      ],
      "source": [
        "# ImportError / ModuleNotFoundError – module cannot be found\n",
        "import genomics_toolkit   # not a real or installed module"
      ]
    },
    {
      "cell_type": "markdown",
      "id": "2e4e02f5",
      "metadata": {},
      "source": [
        "KEY TERMS BOX\n",
        "\n",
        "One potential area of confusion to be clear on, is the interchangeability of the terms **run time error** and **exception**. In Python, runtime errors are represented *as* **exceptions**: that is, as special events that interrupt the normal flow of a program when the interpreter encounters something it cannot handle during execution, such as dividing by zero or using an undefined variable. As we have explored, each exception has a specific name (like `NameError` or `TypeError`) and is reported with a **traceback** that shows where the error occurred. \n",
        "\n",
        "While people often use *runtime error* and *exception* interchangeably, it is more precise to say that **runtime errors in Python appear as exceptions**, with each exception type describing the exact problem.  "
      ]
    },
    {
      "cell_type": "markdown",
      "id": "1919b75f",
      "metadata": {},
      "source": [
        "## Error handling"
      ]
    },
    {
      "cell_type": "markdown",
      "id": "cb8d5e02",
      "metadata": {},
      "source": [
        "### `try` and `except`:"
      ]
    },
    {
      "cell_type": "markdown",
      "id": "12e57dbc",
      "metadata": {},
      "source": [
        "So far, we have covered how exceptions are raised whenever Python encounters a problem during execution. By default, these exceptions stop the program *completely*, which is often helpful for debugging but not always desirable if you want your program to continue running, just to see how far it gets, for instance.\n",
        "\n",
        "Python therefore provides an elegant way to *handle* exceptions using the keywords `try` and `except`. This allows you to wrap a block of code in a `try` statement, and if an exception occurs, the program will *catch* it and execute the code inside the corresponding `except` block instead of crashing. This is not dissimilar to how a conditional statement works, in that if an error occurs, an alternative 'route' through the program is provided, to try and circumvent it. \n",
        "\n",
        "In this way, `try` and `except` give you tight control over how your program responds to errors, enabling you to display useful messages back to the console, take alternative actions or safely recover the point you reached without stopping the entire program. If your program is editing, writing or overwriting important data, for example, these recovery options can be invaluable in preventing irreparable damage from occurring."
      ]
    },
    {
      "cell_type": "markdown",
      "id": "ba9704b3",
      "metadata": {},
      "source": [
        "### Syntax"
      ]
    },
    {
      "cell_type": "markdown",
      "id": "1fd835a9",
      "metadata": {},
      "source": [
        "Similar to the conditional statements we looked at earlier in this lesson, the `try` keyword is followed by a colon `:`, and hitting return auto-indents the next line by a single tab space. All lines on this indentation level will then specify the code that is *wrapped* by the `try` keyword.\n",
        "\n",
        "If we exit the scope of `try` on a new line, we can then use the `except` keyword, to specify alternative 'solution' code, should a particular runtime error or exception occur in the `try` block. \n",
        "\n",
        "Run the code in the cell below. Python will raise a `ZeroDivisionError`:"
      ]
    },
    {
      "cell_type": "code",
      "execution_count": null,
      "id": "a0c5c01a",
      "metadata": {},
      "outputs": [
        {
          "ename": "ZeroDivisionError",
          "evalue": "division by zero",
          "output_type": "error",
          "traceback": [
            "\u001b[31m---------------------------------------------------------------------------\u001b[39m",
            "\u001b[31mZeroDivisionError\u001b[39m                         Traceback (most recent call last)",
            "\u001b[36mCell\u001b[39m\u001b[36m \u001b[39m\u001b[32mIn[15]\u001b[39m\u001b[32m, line 6\u001b[39m\n\u001b[32m      3\u001b[39m cell_count = \u001b[32m1000\u001b[39m\n\u001b[32m      4\u001b[39m replicates = \u001b[32m0\u001b[39m\n\u001b[32m----> \u001b[39m\u001b[32m6\u001b[39m average = \u001b[43mcell_count\u001b[49m\u001b[43m \u001b[49m\u001b[43m/\u001b[49m\u001b[43m \u001b[49m\u001b[43mreplicates\u001b[49m\n\u001b[32m      8\u001b[39m \u001b[38;5;28mprint\u001b[39m(\u001b[33mf\u001b[39m\u001b[33m\"\u001b[39m\u001b[33mAverage cells per replicate: \u001b[39m\u001b[38;5;132;01m{\u001b[39;00maverage\u001b[38;5;132;01m}\u001b[39;00m\u001b[33m\"\u001b[39m)\n",
            "\u001b[31mZeroDivisionError\u001b[39m: division by zero"
          ]
        }
      ],
      "source": [
        "cell_count = 1000\n",
        "replicates = 0\n",
        "\n",
        "average = cell_count / replicates\n",
        "\n",
        "print(f\"Average cells per replicate: {average}\")"
      ]
    },
    {
      "cell_type": "markdown",
      "id": "24f21159",
      "metadata": {},
      "source": [
        "If we wrap the same code in a `try` statement, and use `except` to run code that prints an error message of our choosing to the console, Python no longer raises an error. Instead, it runs the code wrapped in the `except` statement, as a 'solution' should a specified `ZeroDivisionError` be raised. \n",
        "\n",
        "As follows:"
      ]
    },
    {
      "cell_type": "code",
      "execution_count": null,
      "id": "01e3ab1d",
      "metadata": {},
      "outputs": [
        {
          "name": "stdout",
          "output_type": "stream",
          "text": [
            "Error: number of replicates cannot be zero.\n"
          ]
        }
      ],
      "source": [
        "# ZeroDivisionError\n",
        "\n",
        "try:\n",
        "\n",
        "    cell_count = 1000\n",
        "    replicates = 0\n",
        "\n",
        "    average = cell_count / replicates\n",
        "    \n",
        "    print(f\"Average cells per replicate: {average}\")\n",
        "\n",
        "except ZeroDivisionError:\n",
        "    \n",
        "    print(\"Error: number of replicates cannot be zero.\")"
      ]
    },
    {
      "cell_type": "markdown",
      "id": "a9158a83",
      "metadata": {},
      "source": [
        "Similarly, run the cell below, and enter your age as a word (string), and a `ValueError` will raise, because the `int` class expects numeric characters as input, only. In this case, instead of Python's internal error reporting displaying, the `except` statement's code will execute:"
      ]
    },
    {
      "cell_type": "code",
      "execution_count": null,
      "id": "bd22fb39",
      "metadata": {},
      "outputs": [],
      "source": [
        "import js\n",
        "\n",
        "def input(prompt=\"\"):\n",
        "    return js.prompt(prompt)"
      ]
    },
    {
      "cell_type": "code",
      "execution_count": null,
      "id": "a5cfdb5d",
      "metadata": {},
      "outputs": [
        {
          "name": "stdout",
          "output_type": "stream",
          "text": [
            "Error: please enter the age as a number, not text.\n"
          ]
        }
      ],
      "source": [
        "# ValueError\n",
        "\n",
        "try:\n",
        "\n",
        "    age = int(input(\"Enter the patient's age: \"))\n",
        "\n",
        "    print(f\"Recorded age: {age}\")\n",
        "\n",
        "except ValueError:\n",
        "\n",
        "    print(\"Error: please enter the age as a number, not text.\")"
      ]
    },
    {
      "cell_type": "markdown",
      "id": "68703128",
      "metadata": {},
      "source": [
        "Lastly, if we trigger Python to raise a `NameError` by calling an undefined variable, we can use an `except` statement to print our own customised error message:"
      ]
    },
    {
      "cell_type": "code",
      "execution_count": null,
      "id": "2bc70441",
      "metadata": {},
      "outputs": [
        {
          "name": "stdout",
          "output_type": "stream",
          "text": [
            "Error: the variable 'gene_expression' has not been defined yet.\n"
          ]
        }
      ],
      "source": [
        "# NameError\n",
        "\n",
        "try:\n",
        "\n",
        "    print(f\"Expression level: {gene_expression}\")\n",
        "\n",
        "except NameError:\n",
        "\n",
        "    print(\"Error: the variable 'gene_expression' has not been defined yet.\")"
      ]
    },
    {
      "cell_type": "markdown",
      "id": "ec29e54d",
      "metadata": {},
      "source": [
        "## Summary"
      ]
    },
    {
      "cell_type": "markdown",
      "id": "8dcf4657",
      "metadata": {},
      "source": [
        "Understanding how to read, interpret and handle errors is one of the most important skills to develop early in your Python programming journey. As part of the 'algorithmic thinking' that our course focuses on developing, errors are crucial, in that they help us to develop the key problem-solving skills that lie at the heart of programming, and writing good, efficient and readable code.\n",
        "\n",
        "In this lesson, we examined how Python handles **errors** and how we, as programmers, can interpret and prevent them. We distinguished between **syntax errors**, which occur when Python cannot parse our code due to incorrect structure, and **runtime errors**, which appear while the program is executing valid syntax, but encounters an unexpected situation (such as dividing by zero or referencing an undefined variable). We also delved into how Python provides detailed **tracebacks** to help pinpoint the source and location of an error, and how understanding these messages is a key part of debugging. The lesson also introduced the use of **exceptions**, showing how Python raises specific error types (such as `ValueError`, `TypeError`, `IndexError`) depending on the problem encountered. Finally, we discuss strategies for **error handling** using `try` and `except` blocks, which allow code to fail in a controlled manner, offering workarounds for certain scenarios. Together, these ideas form a foundation for writing robust, maintainable and legible Python code."
      ]
    }
  ],
  "metadata": {
    "kernelspec": {
      "display_name": "base",
      "language": "python",
      "name": "python3"
    },
    "language_info": {
      "codemirror_mode": {
        "name": "ipython",
        "version": 3
      },
      "file_extension": ".py",
      "mimetype": "text/x-python",
      "name": "python",
      "nbconvert_exporter": "python",
      "pygments_lexer": "ipython3",
      "version": "3.12.7"
    }
  },
  "nbformat": 4,
  "nbformat_minor": 5
}