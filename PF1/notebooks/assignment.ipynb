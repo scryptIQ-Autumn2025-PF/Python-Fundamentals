{
  "cells": [
    {
      "cell_type": "markdown",
      "metadata": {},
      "source": [
        "# Assignment - Python Fundamentals 1:"
      ]
    },
    {
      "cell_type": "markdown",
      "metadata": {},
      "source": [
        "This notebook contains your assignment questions for the Python Fundamentals 3 lesson. Please attempt to complete all questions. The topics this assignment will assess are:\n",
        "\n",
        "1. Lists\n",
        "2. Tuples\n",
        "3. Sets\n",
        "4. Strings\n",
        "\n",
        "When you have completed your assignment, please commit the changes to your GitHub repository's 'Assignments' folder, as instructed in the **Assignments sectio** of the [L2D Handbok](https://learntodiscover.ai/wp-content/uploads/2025/05/L2D_Student_Handbook_v3-1.pdf).\n"
      ]
    },
    {
      "cell_type": "markdown",
      "metadata": {},
      "source": [
        "## Assignment Background:"
      ]
    },
    {
      "cell_type": "markdown",
      "metadata": {},
      "source": [
        "You have sent off for some sequencing data. You have received the information, but it's not formatted how you want it:\n",
        "\n",
        "```\n",
        "seq1 = \"SEQ001_ATCGATCGTAGCTAGCTAGCTA\"\n",
        "seq2 = \"ATCG_CGTAGCTAG_CTAGCTA\"\n",
        "\n",
        "sequences = [\n",
        "    \"SEQ002_GCTAGCTAGCTAGCTAGCTAGT\",\n",
        "    \"SEQ003_TAGCTAGCTAGCTAGCTAGCTA\",\n",
        "    \"SEQ004_CTAGCTAGCTAGCTAGCTAGCT\",\n",
        "    \"SEQ005_ATCGATCGATCGATCGATCGAT\"\n",
        "]\n",
        "```\n",
        "\n",
        "Later you receive a list of patient blood types for your clinical trial:\n",
        "\n",
        "```\n",
        "group_a_blood_types = ['A+', 'B+', 'O-', 'A+', 'AB+', 'O-', 'B+', 'A+', 'O+']\n",
        "group_b_blood_types = ['O+', 'A-', 'B+', 'O+', 'A+', 'AB-', 'O-', 'A-']\n",
        "```"
      ]
    },
    {
      "cell_type": "markdown",
      "metadata": {},
      "source": [
        "## Assignment Questions:"
      ]
    },
    {
      "cell_type": "markdown",
      "metadata": {},
      "source": [
        "### Strings"
      ]
    },
    {
      "cell_type": "markdown",
      "metadata": {},
      "source": [
        "1. You have been given two sequences that should be 1, however there was an error when it was returned to you. You need to clean the data and join them together.\n",
        "    - Remove the sequence ID from `seq1`, the characters before and including the `_`\n",
        "    - `seq2` is missing some information, replace the underscores with `G`\n",
        "    - Join the two sequences together, with `seq1` first"
      ]
    },
    {
      "cell_type": "code",
      "execution_count": null,
      "metadata": {},
      "outputs": [],
      "source": []
    },
    {
      "cell_type": "markdown",
      "metadata": {},
      "source": [
        "2. Count how often `AG` appears in the string you created"
      ]
    },
    {
      "cell_type": "code",
      "execution_count": null,
      "metadata": {},
      "outputs": [],
      "source": []
    },
    {
      "cell_type": "markdown",
      "metadata": {},
      "source": [
        "### Lists and Tuples"
      ]
    },
    {
      "cell_type": "markdown",
      "metadata": {},
      "source": [
        "1. Convert your sequence to a list\n",
        "    - Isolate and print the 5th item in the list\n",
        "    - Isolate and print the 3rd to last item in the list"
      ]
    },
    {
      "cell_type": "code",
      "execution_count": 5,
      "metadata": {},
      "outputs": [],
      "source": []
    },
    {
      "cell_type": "markdown",
      "metadata": {},
      "source": [
        "2. Count how many times \"G\" appears in the list you created in **1**"
      ]
    },
    {
      "cell_type": "code",
      "execution_count": null,
      "metadata": {},
      "outputs": [],
      "source": []
    },
    {
      "cell_type": "markdown",
      "metadata": {},
      "source": [
        "3.  Add `seq1` to the start of the list called `sequences`.\n",
        "    - You only need the first 4 items in the list, create a slice that achieves this\n",
        "    - You decide you want to remove the last item instead, achieve this through a list method"
      ]
    },
    {
      "cell_type": "code",
      "execution_count": null,
      "metadata": {},
      "outputs": [],
      "source": []
    },
    {
      "cell_type": "markdown",
      "metadata": {},
      "source": [
        "4. Convert one of the new lists you created into a Tuple\n",
        "    - Use indexing to access the 2nd sequence\n",
        "    - Repeat the actions in question 1 of strings, i.e.:\n",
        "        - Remove the sequence ID from the string, the characters before and including the `_`\n",
        "        - Add the given string to the end string; \"AGTCGG\"\n",
        "    - Print the tuple to demonstrate the changes"
      ]
    },
    {
      "cell_type": "code",
      "execution_count": 1,
      "metadata": {},
      "outputs": [],
      "source": []
    },
    {
      "cell_type": "markdown",
      "metadata": {},
      "source": [
        "### Sets"
      ]
    },
    {
      "cell_type": "markdown",
      "metadata": {},
      "source": [
        "1. Create sets called unique_group_a and unique_group_b to identify how many different blood types are present in each group.\n",
        "    - Find all blood types present across both groups\n",
        "    - Find blood types common to both groups\n",
        "    - Find blood types that appear in only one group, not both (symmetric difference)"
      ]
    }
  ],
  "metadata": {
    "kernelspec": {
      "display_name": "Python 3 (ipykernel)",
      "language": "python",
      "name": "python3"
    },
    "language_info": {
      "codemirror_mode": {
        "name": "ipython",
        "version": 3
      },
      "file_extension": ".py",
      "mimetype": "text/x-python",
      "name": "python",
      "nbconvert_exporter": "python",
      "pygments_lexer": "ipython3",
      "version": "3.12.4"
    },
    "toc-autonumbering": true,
    "toc-showmarkdowntxt": false,
    "toc-showtags": false
  },
  "nbformat": 4,
  "nbformat_minor": 4
}